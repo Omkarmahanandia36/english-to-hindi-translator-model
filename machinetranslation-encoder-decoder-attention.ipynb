{
 "cells": [
  {
   "cell_type": "markdown",
   "id": "8cf92b6a",
   "metadata": {
    "papermill": {
     "duration": 0.022765,
     "end_time": "2024-09-19T09:24:35.050186",
     "exception": false,
     "start_time": "2024-09-19T09:24:35.027421",
     "status": "completed"
    },
    "tags": []
   },
   "source": [
    "<a id=toc></a>\n",
    "<h1 style=\"padding: 35px;color:white;margin:10;font-size:200%;text-align:center;display:fill;border-radius:10px;overflow:hidden;background-image: url(https://i.postimg.cc/fTDmwnkQ/Miaka.png); background-size: 100% auto;background-position: 0px 0px; \n",
    "\"><span style='color:white'><b> Machine Translation Using Encoder-Decoder with Attention Mechanism</b></span></h1>\n",
    "\n",
    "<br>\n",
    "\n",
    "<center>\n",
    "    <img src=\"https://media.geeksforgeeks.org/wp-content/uploads/20231226141038/Machine-Translation-Model.png\" \n",
    "         alt =\"Machine Translation\" \n",
    "         style='width: 60%;'>\n",
    "    <figcaption>\n",
    "            Source: <a href='https://media.geeksforgeeks.org/wp-content/uploads/20231226141038/Machine-Translation-Model.png'> GFG | Machine Translation</a>\n",
    "    </figcaption>\n",
    "</center>\n",
    "\n",
    "## 🎯 Objective\n",
    " The goal of this notebook is to practice Encoder-Decoder architecture by doing Machine translation. In this notebook I am doing English to hindi translation using Encoder-Decoder .\n",
    "\n",
    "## 📁 Dataset\n",
    "The dataset used in this notebook is the '<b>IIT Bombay English-Hindi Translation Dataset</b>' uploaded by @VAIBHAV KUMAR on kaggle. This Data contains 1,561,840 instances of Hindi - English Translation\n",
    "\n",
    "<br>\n",
    "\n",
    "<hr>\n",
    "\n",
    "## Table of contents\n",
    "- [1 | Overview  of working technology](#1)\n",
    "\n",
    "- [2 | Importing Required Libraries & DataSource](#2)\n",
    "   > - [Load & Inspect Data](#2.1)\n",
    " \n",
    "- [3 | Data Exploration](#3)\n",
    "   > - [Computing Dimension of Dataset](#3.1)\n",
    "   > - [Statistical Summary of Dataset](#3.2)\n",
    "   > - [Checking if There's Any Duplicate Records](#3.3)\n",
    "   > - [Computing Total No. of Missing Values and the Percentage of Missing Values](#3.4)\n",
    "   > - [Performing Descriptive Analysis](#3.5)\n",
    "   \n",
    "   \n",
    "- [4 | Preprocessing](#4) \n",
    "   > - [Dropping Duplicates and Null Values](#4.1)\n",
    "   > - [Lowercasing](#4.2)\n",
    "   > - [Removing Html tags](#4.3)\n",
    "   > - [Removing URLs](#4.4)\n",
    "   > - [Chat word treatment](#4.5)\n",
    "   > - [Removing Emojis](#4.6)\n",
    "   > - [Removing contractions](#4.7)\n",
    "   > - [Remove Non-Hindi and Alphanumeric characters](#4.8)\n",
    "   > - [WordCloud](#4.9)\n",
    "   > - [Tokenize on the Data ](#4.10)\n",
    "   > - [Split the Data into Independent and Dependent Variable](#4.11)\n",
    "   > - [Padding the Data](#4.12)\n",
    "   > - [Train Test and split](#4.13)\n",
    "   \n",
    "- [5 | Modelling](#5)\n",
    "   > - [Enocer Decoder model](#5.1)\n",
    "   > - [Enocer Decoder model Evaluation](#5.2)\n",
    "   > - [Prediction from Enocer Decoder model](#5.3)\n",
    "   > - [Enocer Decoder model with attention](#5.4)\n",
    "   > - [Enocer Decoder model's with attention Evaluation](#5.5)\n",
    "   > - [Prediction from Enocer Decoder model with attention](#5.6)\n",
    "   > - [Saving the weights](#5.7)\n",
    "\n",
    "<br>\n",
    "\n",
    "<hr>\n",
    "\n",
    "# Author Details:\n",
    "- **Name: Omkar Mahanandia**\n",
    "- **Email: omkarmahanandia@gmail.com**\n",
    "- **LinkedIn: www.linkedin.com/in/omkarmahanandia**\n",
    "- **GitHub: https://github.com/Omkarmahanandia36**"
   ]
  },
  {
   "cell_type": "markdown",
   "id": "ad5b30cc",
   "metadata": {
    "papermill": {
     "duration": 0.022152,
     "end_time": "2024-09-19T09:24:35.095624",
     "exception": false,
     "start_time": "2024-09-19T09:24:35.073472",
     "status": "completed"
    },
    "tags": []
   },
   "source": [
    "<a id='1'></a>\n",
    "# 1 | Overview of Working Technology\n",
    "\n",
    "<div style=\"padding: 4px;color:white;margin:10;font-size:200%;text-align:center;display:fill;border-radius:10px;overflow:hidden;background-image: url(https://i.postimg.cc/fTDmwnkQ/Miaka.png); background-size: 100% auto;\"></div>\n"
   ]
  },
  {
   "cell_type": "markdown",
   "id": "ff77221f",
   "metadata": {
    "papermill": {
     "duration": 0.021726,
     "end_time": "2024-09-19T09:24:35.139375",
     "exception": false,
     "start_time": "2024-09-19T09:24:35.117649",
     "status": "completed"
    },
    "tags": []
   },
   "source": [
    "<a id=toc></a>\n",
    "<h1 style=\"padding: 35px;color:white;margin:10;font-size:200%;text-align:center;display:fill;border-radius:10px;overflow:hidden;background-image: url(https://i.postimg.cc/fTDmwnkQ/Miaka.png); background-size: 100% auto;background-position: 0px 0px; \n",
    "\"><span style='color:white'><b> Ecoder Decoder Architecture without Attention </b></span></h1>"
   ]
  },
  {
   "cell_type": "markdown",
   "id": "b7beda7f",
   "metadata": {
    "execution": {
     "iopub.execute_input": "2024-07-07T14:00:29.688861Z",
     "iopub.status.busy": "2024-07-07T14:00:29.688355Z",
     "iopub.status.idle": "2024-07-07T14:00:30.908182Z",
     "shell.execute_reply": "2024-07-07T14:00:30.906490Z",
     "shell.execute_reply.started": "2024-07-07T14:00:29.688826Z"
    },
    "papermill": {
     "duration": 0.021953,
     "end_time": "2024-09-19T09:24:35.184697",
     "exception": false,
     "start_time": "2024-09-19T09:24:35.162744",
     "status": "completed"
    },
    "tags": []
   },
   "source": [
    "![Encoder](https://6chaoran.wordpress.com/wp-content/uploads/2019/01/encoder-decoder-architecture.png?w=640)"
   ]
  },
  {
   "cell_type": "markdown",
   "id": "fe95d630",
   "metadata": {
    "papermill": {
     "duration": 0.022061,
     "end_time": "2024-09-19T09:24:35.228540",
     "exception": false,
     "start_time": "2024-09-19T09:24:35.206479",
     "status": "completed"
    },
    "tags": []
   },
   "source": [
    "<a id=toc></a>\n",
    "<h1 style=\"padding: 35px;color:white;margin:10;font-size:200%;text-align:center;display:fill;border-radius:10px;overflow:hidden;background-image: url(https://i.postimg.cc/fTDmwnkQ/Miaka.png); background-size: 100% auto;background-position: 0px 0px; \n",
    "\"><span style='color:white'><b> Ecoder Decoder Architecture with Attention </b></span></h1>"
   ]
  },
  {
   "cell_type": "markdown",
   "id": "7e41df8e",
   "metadata": {
    "papermill": {
     "duration": 0.021609,
     "end_time": "2024-09-19T09:24:35.272255",
     "exception": false,
     "start_time": "2024-09-19T09:24:35.250646",
     "status": "completed"
    },
    "tags": []
   },
   "source": [
    "![Encoder](https://www.researchgate.net/publication/377750342/figure/fig2/AS:11431281220369226@1706414219715/RNN-encoder-decoder-with-an-Attention-mechanism.png)"
   ]
  },
  {
   "cell_type": "markdown",
   "id": "ca36c314",
   "metadata": {
    "papermill": {
     "duration": 0.022462,
     "end_time": "2024-09-19T09:24:35.316926",
     "exception": false,
     "start_time": "2024-09-19T09:24:35.294464",
     "status": "completed"
    },
    "tags": []
   },
   "source": [
    "### Encoder-Decoder Architecture in RNNs:\n",
    "- **Architecture**: \n",
    "  - Comprises two RNNs: an Encoder and a Decoder.\n",
    "  - Encoder processes the input sequence and converts it into a fixed-size context vector.\n",
    "  - Decoder takes this context vector and generates the output sequence step by step.\n",
    "\n",
    "- **Encoder**:\n",
    "  - Takes input sequence one token at a time.\n",
    "  - Outputs a context vector summarizing the input sequence.\n",
    "  - Can use various RNN variants like LSTM or GRU.\n",
    "\n",
    "- **Decoder**:\n",
    "  - Takes the context vector from the Encoder and generates the output sequence.\n",
    "  - Processes the output sequence step by step, incorporating information from the context vector.\n",
    "  - Can have a different architecture from the Encoder, but typically uses the same RNN variant.\n",
    "\n",
    "- **Training**:\n",
    "  - During training, both Encoder and Decoder are jointly trained using teacher forcing.\n",
    "  - Teacher forcing involves providing the correct previous target token as input to the Decoder at each step."
   ]
  },
  {
   "cell_type": "markdown",
   "id": "23d64f50",
   "metadata": {
    "papermill": {
     "duration": 0.022255,
     "end_time": "2024-09-19T09:24:35.361861",
     "exception": false,
     "start_time": "2024-09-19T09:24:35.339606",
     "status": "completed"
    },
    "tags": []
   },
   "source": [
    "<center><div style='color:#ffffff;\n",
    "           display:inline-block;\n",
    "           padding: 5px 5px 5px 5px;\n",
    "           border-radius:5px;\n",
    "           background-color:#78D1E1;\n",
    "           font-size:100%;'><a href=#toc style='text-decoration: none; color:#03001C;'>⬆️ Back To Top</a></div></center>\n",
    "\n",
    "<a id='2'></a>\n",
    "# 2 | Importing Required Libraries & DataSource\n",
    "\n",
    "<div style=\"padding: 4px;color:white;margin:10;font-size:200%;text-align:center;display:fill;border-radius:10px;overflow:hidden;background-image: url(https://i.postimg.cc/fTDmwnkQ/Miaka.png); background-size: 100% auto;\"></div>\n"
   ]
  },
  {
   "cell_type": "code",
   "execution_count": 1,
   "id": "941edbdc",
   "metadata": {
    "execution": {
     "iopub.execute_input": "2024-09-19T09:24:35.407418Z",
     "iopub.status.busy": "2024-09-19T09:24:35.407036Z",
     "iopub.status.idle": "2024-09-19T09:24:50.834270Z",
     "shell.execute_reply": "2024-09-19T09:24:50.833239Z"
    },
    "papermill": {
     "duration": 15.453086,
     "end_time": "2024-09-19T09:24:50.836747",
     "exception": false,
     "start_time": "2024-09-19T09:24:35.383661",
     "status": "completed"
    },
    "tags": []
   },
   "outputs": [
    {
     "name": "stdout",
     "output_type": "stream",
     "text": [
      "Collecting contractions\r\n",
      "  Downloading contractions-0.1.73-py2.py3-none-any.whl.metadata (1.2 kB)\r\n",
      "Collecting textsearch>=0.0.21 (from contractions)\r\n",
      "  Downloading textsearch-0.0.24-py2.py3-none-any.whl.metadata (1.2 kB)\r\n",
      "Collecting anyascii (from textsearch>=0.0.21->contractions)\r\n",
      "  Downloading anyascii-0.3.2-py3-none-any.whl.metadata (1.5 kB)\r\n",
      "Collecting pyahocorasick (from textsearch>=0.0.21->contractions)\r\n",
      "  Downloading pyahocorasick-2.1.0-cp310-cp310-manylinux_2_5_x86_64.manylinux1_x86_64.manylinux_2_12_x86_64.manylinux2010_x86_64.whl.metadata (13 kB)\r\n",
      "Downloading contractions-0.1.73-py2.py3-none-any.whl (8.7 kB)\r\n",
      "Downloading textsearch-0.0.24-py2.py3-none-any.whl (7.6 kB)\r\n",
      "Downloading anyascii-0.3.2-py3-none-any.whl (289 kB)\r\n",
      "\u001b[2K   \u001b[90m━━━━━━━━━━━━━━━━━━━━━━━━━━━━━━━━━━━━━━━━\u001b[0m \u001b[32m289.9/289.9 kB\u001b[0m \u001b[31m2.6 MB/s\u001b[0m eta \u001b[36m0:00:00\u001b[0m\r\n",
      "\u001b[?25hDownloading pyahocorasick-2.1.0-cp310-cp310-manylinux_2_5_x86_64.manylinux1_x86_64.manylinux_2_12_x86_64.manylinux2010_x86_64.whl (110 kB)\r\n",
      "\u001b[2K   \u001b[90m━━━━━━━━━━━━━━━━━━━━━━━━━━━━━━━━━━━━━━━━\u001b[0m \u001b[32m110.7/110.7 kB\u001b[0m \u001b[31m7.4 MB/s\u001b[0m eta \u001b[36m0:00:00\u001b[0m\r\n",
      "\u001b[?25hInstalling collected packages: pyahocorasick, anyascii, textsearch, contractions\r\n",
      "Successfully installed anyascii-0.3.2 contractions-0.1.73 pyahocorasick-2.1.0 textsearch-0.0.24\r\n"
     ]
    }
   ],
   "source": [
    "!pip install contractions"
   ]
  },
  {
   "cell_type": "code",
   "execution_count": 2,
   "id": "46a0683d",
   "metadata": {
    "execution": {
     "iopub.execute_input": "2024-09-19T09:24:50.885953Z",
     "iopub.status.busy": "2024-09-19T09:24:50.885655Z",
     "iopub.status.idle": "2024-09-19T09:24:53.042043Z",
     "shell.execute_reply": "2024-09-19T09:24:53.041021Z"
    },
    "papermill": {
     "duration": 2.18357,
     "end_time": "2024-09-19T09:24:53.044082",
     "exception": false,
     "start_time": "2024-09-19T09:24:50.860512",
     "status": "completed"
    },
    "tags": []
   },
   "outputs": [
    {
     "name": "stdout",
     "output_type": "stream",
     "text": [
      "[nltk_data] Downloading package wordnet to /usr/share/nltk_data...\n",
      "[nltk_data]   Package wordnet is already up-to-date!\n"
     ]
    },
    {
     "data": {
      "text/plain": [
       "True"
      ]
     },
     "execution_count": 2,
     "metadata": {},
     "output_type": "execute_result"
    }
   ],
   "source": [
    "from textblob import Word\n",
    "import nltk\n",
    "nltk.data.path.append(\"/kaggle/working/\")\n",
    "nltk.download('wordnet')"
   ]
  },
  {
   "cell_type": "code",
   "execution_count": 3,
   "id": "c048615d",
   "metadata": {
    "execution": {
     "iopub.execute_input": "2024-09-19T09:24:53.132038Z",
     "iopub.status.busy": "2024-09-19T09:24:53.131345Z",
     "iopub.status.idle": "2024-09-19T09:25:31.213486Z",
     "shell.execute_reply": "2024-09-19T09:25:31.212570Z"
    },
    "papermill": {
     "duration": 38.170483,
     "end_time": "2024-09-19T09:25:31.238586",
     "exception": false,
     "start_time": "2024-09-19T09:24:53.068103",
     "status": "completed"
    },
    "tags": []
   },
   "outputs": [
    {
     "name": "stderr",
     "output_type": "stream",
     "text": [
      "2024-09-19 09:25:20.670013: E external/local_xla/xla/stream_executor/cuda/cuda_dnn.cc:9261] Unable to register cuDNN factory: Attempting to register factory for plugin cuDNN when one has already been registered\n",
      "2024-09-19 09:25:20.670114: E external/local_xla/xla/stream_executor/cuda/cuda_fft.cc:607] Unable to register cuFFT factory: Attempting to register factory for plugin cuFFT when one has already been registered\n",
      "2024-09-19 09:25:20.838184: E external/local_xla/xla/stream_executor/cuda/cuda_blas.cc:1515] Unable to register cuBLAS factory: Attempting to register factory for plugin cuBLAS when one has already been registered\n"
     ]
    },
    {
     "name": "stdout",
     "output_type": "stream",
     "text": [
      "/kaggle/input/english-hindi-dataset/Dataset_English_Hindi.csv\n"
     ]
    }
   ],
   "source": [
    "# Libraray for Data Manipulation\n",
    "import numpy as np\n",
    "import pandas as pd\n",
    "\n",
    "# Libraray for Data Visualisation\n",
    "import seaborn as sns \n",
    "import matplotlib.pyplot as plt \n",
    "sns.set(style=\"white\",font_scale=1.5)\n",
    "sns.set(rc={\"axes.facecolor\":\"#FFFAF0\",\"figure.facecolor\":\"#FFFAF0\"})\n",
    "sns.set_context(\"poster\",font_scale = .7)\n",
    "\n",
    "# Library for preprocessing \n",
    "import contractions\n",
    "from sklearn.feature_extraction.text import CountVectorizer\n",
    "from sklearn.preprocessing import LabelBinarizer\n",
    "from nltk.corpus import stopwords\n",
    "from nltk.stem.porter import PorterStemmer\n",
    "from wordcloud import WordCloud,STOPWORDS\n",
    "from nltk.stem import WordNetLemmatizer\n",
    "from nltk.tokenize import word_tokenize,sent_tokenize\n",
    "import spacy\n",
    "import math\n",
    "from gensim.models import Word2Vec\n",
    "from sklearn.feature_extraction.text import TfidfVectorizer\n",
    "from joblib import Parallel, delayed\n",
    "import re,string,unicodedata\n",
    "from sklearn.model_selection import train_test_split\n",
    "from textblob import TextBlob\n",
    "from scipy.sparse import lil_matrix\n",
    "from tensorflow.keras.preprocessing.sequence import pad_sequences\n",
    "from nltk import pos_tag\n",
    "\n",
    "# Library for model building\n",
    "from tensorflow.keras.regularizers import l2\n",
    "import tensorflow\n",
    "import keras\n",
    "from keras import layers\n",
    "from tensorflow.keras.preprocessing.text import Tokenizer\n",
    "from keras.models import Sequential,Model\n",
    "#from attention import BahdanauAttention\n",
    "from keras.layers import SimpleRNN,LSTM,GRU, Embedding, Dense, SpatialDropout1D, Dropout, BatchNormalization, Bidirectional, Attention, Input\n",
    "from sklearn.metrics import accuracy_score\n",
    "from tensorflow.keras.initializers import GlorotUniform\n",
    "from tensorflow.keras.optimizers import Adam\n",
    "\n",
    "#Library to overcome Warnings\n",
    "import warnings\n",
    "warnings.filterwarnings('ignore')\n",
    "\n",
    "import os\n",
    "for dirname, _, filenames in os.walk('/kaggle/input'):\n",
    "    for filename in filenames:\n",
    "        print(os.path.join(dirname, filename))"
   ]
  },
  {
   "cell_type": "markdown",
   "id": "c5015831",
   "metadata": {
    "papermill": {
     "duration": 0.023429,
     "end_time": "2024-09-19T09:25:31.286115",
     "exception": false,
     "start_time": "2024-09-19T09:25:31.262686",
     "status": "completed"
    },
    "tags": []
   },
   "source": [
    "<center><div style='color:#ffffff;\n",
    "           display:inline-block;\n",
    "           padding: 5px 5px 5px 5px;\n",
    "           border-radius:5px;\n",
    "           background-color:#78D1E1;\n",
    "           font-size:100%;'><a href=#toc style='text-decoration: none; color:#03001C;'>⬆️ Back To Top</a></div></center>\n",
    "\n",
    "<a id='1.1'></a>\n",
    "# Load and Inspect Dataset\n",
    "\n",
    "<div style=\"padding: 4px;color:white;margin:10;font-size:200%;text-align:center;display:fill;border-radius:10px;overflow:hidden;background-image: url(https://i.postimg.cc/fTDmwnkQ/Miaka.png); background-size: 100% auto;\"></div>\n"
   ]
  },
  {
   "cell_type": "code",
   "execution_count": 4,
   "id": "5eb6d3d7",
   "metadata": {
    "execution": {
     "iopub.execute_input": "2024-09-19T09:25:31.336038Z",
     "iopub.status.busy": "2024-09-19T09:25:31.334893Z",
     "iopub.status.idle": "2024-09-19T09:25:32.503261Z",
     "shell.execute_reply": "2024-09-19T09:25:32.502404Z"
    },
    "papermill": {
     "duration": 1.196431,
     "end_time": "2024-09-19T09:25:32.506129",
     "exception": false,
     "start_time": "2024-09-19T09:25:31.309698",
     "status": "completed"
    },
    "tags": []
   },
   "outputs": [],
   "source": [
    "data = pd.read_csv('/kaggle/input/english-hindi-dataset/Dataset_English_Hindi.csv')"
   ]
  },
  {
   "cell_type": "code",
   "execution_count": 5,
   "id": "1ecc760a",
   "metadata": {
    "execution": {
     "iopub.execute_input": "2024-09-19T09:25:32.562857Z",
     "iopub.status.busy": "2024-09-19T09:25:32.562453Z",
     "iopub.status.idle": "2024-09-19T09:25:32.593670Z",
     "shell.execute_reply": "2024-09-19T09:25:32.592604Z"
    },
    "papermill": {
     "duration": 0.058523,
     "end_time": "2024-09-19T09:25:32.595748",
     "exception": false,
     "start_time": "2024-09-19T09:25:32.537225",
     "status": "completed"
    },
    "tags": []
   },
   "outputs": [
    {
     "data": {
      "text/html": [
       "<div>\n",
       "<style scoped>\n",
       "    .dataframe tbody tr th:only-of-type {\n",
       "        vertical-align: middle;\n",
       "    }\n",
       "\n",
       "    .dataframe tbody tr th {\n",
       "        vertical-align: top;\n",
       "    }\n",
       "\n",
       "    .dataframe thead th {\n",
       "        text-align: right;\n",
       "    }\n",
       "</style>\n",
       "<table border=\"1\" class=\"dataframe\">\n",
       "  <thead>\n",
       "    <tr style=\"text-align: right;\">\n",
       "      <th></th>\n",
       "      <th>English</th>\n",
       "      <th>Hindi</th>\n",
       "    </tr>\n",
       "  </thead>\n",
       "  <tbody>\n",
       "    <tr>\n",
       "      <th>103446</th>\n",
       "      <td>there was one thing in common:</td>\n",
       "      <td>एक चीज़ सामान्य थी:</td>\n",
       "    </tr>\n",
       "    <tr>\n",
       "      <th>49934</th>\n",
       "      <td>He arrived in England , remember , with very l...</td>\n",
       "      <td>याद रखें कि इंग़्लैंड आगमन के समय वह बहुत कम अ...</td>\n",
       "    </tr>\n",
       "    <tr>\n",
       "      <th>97602</th>\n",
       "      <td>Moreover, I think,</td>\n",
       "      <td>इसके अलावा मुझे लगता है,</td>\n",
       "    </tr>\n",
       "    <tr>\n",
       "      <th>41270</th>\n",
       "      <td>All the brothers in a family share a wife .</td>\n",
       "      <td>सभी भाई मिलकर एक पत्नी रख लेते है .</td>\n",
       "    </tr>\n",
       "    <tr>\n",
       "      <th>85985</th>\n",
       "      <td>It consists of Roy 's writings on philosophica...</td>\n",
       "      <td>राय का यह लेखन आधुनिक विज्ञान के दार्शनिक परिण...</td>\n",
       "    </tr>\n",
       "  </tbody>\n",
       "</table>\n",
       "</div>"
      ],
      "text/plain": [
       "                                                  English  \\\n",
       "103446                     there was one thing in common:   \n",
       "49934   He arrived in England , remember , with very l...   \n",
       "97602                                  Moreover, I think,   \n",
       "41270         All the brothers in a family share a wife .   \n",
       "85985   It consists of Roy 's writings on philosophica...   \n",
       "\n",
       "                                                    Hindi  \n",
       "103446                                एक चीज़ सामान्य थी:  \n",
       "49934   याद रखें कि इंग़्लैंड आगमन के समय वह बहुत कम अ...  \n",
       "97602                            इसके अलावा मुझे लगता है,  \n",
       "41270                 सभी भाई मिलकर एक पत्नी रख लेते है .  \n",
       "85985   राय का यह लेखन आधुनिक विज्ञान के दार्शनिक परिण...  "
      ]
     },
     "execution_count": 5,
     "metadata": {},
     "output_type": "execute_result"
    }
   ],
   "source": [
    "data.sample(5)"
   ]
  },
  {
   "cell_type": "markdown",
   "id": "af8a9cc7",
   "metadata": {
    "papermill": {
     "duration": 0.023508,
     "end_time": "2024-09-19T09:25:32.643366",
     "exception": false,
     "start_time": "2024-09-19T09:25:32.619858",
     "status": "completed"
    },
    "tags": []
   },
   "source": [
    "<center><div style='color:#ffffff;\n",
    "           display:inline-block;\n",
    "           padding: 5px 5px 5px 5px;\n",
    "           border-radius:5px;\n",
    "           background-color:#78D1E1;\n",
    "           font-size:100%;'><a href=#toc style='text-decoration: none; color:#03001C;'>⬆️ Back To Top</a></div></center>\n",
    "\n",
    "<a id='3'></a>\n",
    "# 3 | Data Exploration\n",
    "\n",
    "<div style=\"padding: 4px;color:white;margin:10;font-size:200%;text-align:center;display:fill;border-radius:10px;overflow:hidden;background-image: url(https://i.postimg.cc/fTDmwnkQ/Miaka.png); background-size: 100% auto;\"></div>\n"
   ]
  },
  {
   "cell_type": "markdown",
   "id": "a31e81df",
   "metadata": {
    "execution": {
     "iopub.execute_input": "2024-07-07T14:15:32.369273Z",
     "iopub.status.busy": "2024-07-07T14:15:32.368708Z",
     "iopub.status.idle": "2024-07-07T14:15:32.379257Z",
     "shell.execute_reply": "2024-07-07T14:15:32.377314Z",
     "shell.execute_reply.started": "2024-07-07T14:15:32.369235Z"
    },
    "papermill": {
     "duration": 0.02344,
     "end_time": "2024-09-19T09:25:32.690845",
     "exception": false,
     "start_time": "2024-09-19T09:25:32.667405",
     "status": "completed"
    },
    "tags": []
   },
   "source": [
    "<a id='3.1'></a>\n",
    "#### 3.1. Computing Dimension of Dataset"
   ]
  },
  {
   "cell_type": "code",
   "execution_count": 6,
   "id": "f0755406",
   "metadata": {
    "execution": {
     "iopub.execute_input": "2024-09-19T09:25:32.742350Z",
     "iopub.status.busy": "2024-09-19T09:25:32.741392Z",
     "iopub.status.idle": "2024-09-19T09:25:32.747317Z",
     "shell.execute_reply": "2024-09-19T09:25:32.746280Z"
    },
    "papermill": {
     "duration": 0.033858,
     "end_time": "2024-09-19T09:25:32.749371",
     "exception": false,
     "start_time": "2024-09-19T09:25:32.715513",
     "status": "completed"
    },
    "tags": []
   },
   "outputs": [
    {
     "name": "stdout",
     "output_type": "stream",
     "text": [
      "dataset shape:  (130476, 2)\n"
     ]
    }
   ],
   "source": [
    "print(\"dataset shape: \",data.shape)"
   ]
  },
  {
   "cell_type": "markdown",
   "id": "f423ac3b",
   "metadata": {
    "papermill": {
     "duration": 0.023744,
     "end_time": "2024-09-19T09:25:32.797387",
     "exception": false,
     "start_time": "2024-09-19T09:25:32.773643",
     "status": "completed"
    },
    "tags": []
   },
   "source": [
    "<div style=\"border-radius:10px; border:#808080 dashed; padding: 15px; background-color: ##F0E68C ; font-size:100%; text-align:left\">\n",
    "\n",
    "<h3 align=\"left\"><font color=brown> 🔍 Inference:</font></h3>\n",
    "\n",
    "* There is total **1561841 records** and **2 columns** availabe in the data."
   ]
  },
  {
   "cell_type": "markdown",
   "id": "80169b54",
   "metadata": {
    "execution": {
     "iopub.execute_input": "2024-07-07T14:16:38.504356Z",
     "iopub.status.busy": "2024-07-07T14:16:38.503878Z",
     "iopub.status.idle": "2024-07-07T14:16:38.512008Z",
     "shell.execute_reply": "2024-07-07T14:16:38.510486Z",
     "shell.execute_reply.started": "2024-07-07T14:16:38.504322Z"
    },
    "papermill": {
     "duration": 0.023901,
     "end_time": "2024-09-19T09:25:32.845016",
     "exception": false,
     "start_time": "2024-09-19T09:25:32.821115",
     "status": "completed"
    },
    "tags": []
   },
   "source": [
    "<a id='3.2'></a>\n",
    "#### 3.2. Statistical Summary of Dataset"
   ]
  },
  {
   "cell_type": "code",
   "execution_count": 7,
   "id": "0859c169",
   "metadata": {
    "execution": {
     "iopub.execute_input": "2024-09-19T09:25:32.895460Z",
     "iopub.status.busy": "2024-09-19T09:25:32.894670Z",
     "iopub.status.idle": "2024-09-19T09:25:32.954598Z",
     "shell.execute_reply": "2024-09-19T09:25:32.953514Z"
    },
    "papermill": {
     "duration": 0.088054,
     "end_time": "2024-09-19T09:25:32.957178",
     "exception": false,
     "start_time": "2024-09-19T09:25:32.869124",
     "status": "completed"
    },
    "tags": []
   },
   "outputs": [
    {
     "name": "stdout",
     "output_type": "stream",
     "text": [
      "<class 'pandas.core.frame.DataFrame'>\n",
      "RangeIndex: 130476 entries, 0 to 130475\n",
      "Data columns (total 2 columns):\n",
      " #   Column   Non-Null Count   Dtype \n",
      "---  ------   --------------   ----- \n",
      " 0   English  130474 non-null  object\n",
      " 1   Hindi    130164 non-null  object\n",
      "dtypes: object(2)\n",
      "memory usage: 2.0+ MB\n"
     ]
    }
   ],
   "source": [
    "data.info()"
   ]
  },
  {
   "cell_type": "markdown",
   "id": "ff6edc53",
   "metadata": {
    "execution": {
     "iopub.execute_input": "2024-07-07T14:17:27.249131Z",
     "iopub.status.busy": "2024-07-07T14:17:27.248099Z",
     "iopub.status.idle": "2024-07-07T14:17:27.255988Z",
     "shell.execute_reply": "2024-07-07T14:17:27.254528Z",
     "shell.execute_reply.started": "2024-07-07T14:17:27.249087Z"
    },
    "papermill": {
     "duration": 0.023847,
     "end_time": "2024-09-19T09:25:33.007938",
     "exception": false,
     "start_time": "2024-09-19T09:25:32.984091",
     "status": "completed"
    },
    "tags": []
   },
   "source": [
    "<a id='3.3'></a>\n",
    "#### 3.3. Checking if There's Any Duplicate Records."
   ]
  },
  {
   "cell_type": "code",
   "execution_count": 8,
   "id": "928d461d",
   "metadata": {
    "execution": {
     "iopub.execute_input": "2024-09-19T09:25:33.057916Z",
     "iopub.status.busy": "2024-09-19T09:25:33.056937Z",
     "iopub.status.idle": "2024-09-19T09:25:33.161016Z",
     "shell.execute_reply": "2024-09-19T09:25:33.159953Z"
    },
    "papermill": {
     "duration": 0.13172,
     "end_time": "2024-09-19T09:25:33.163580",
     "exception": false,
     "start_time": "2024-09-19T09:25:33.031860",
     "status": "completed"
    },
    "tags": []
   },
   "outputs": [
    {
     "name": "stdout",
     "output_type": "stream",
     "text": [
      "Duplicates in Dataset:  2788\n"
     ]
    }
   ],
   "source": [
    "print(\"Duplicates in Dataset: \",data.duplicated().sum())"
   ]
  },
  {
   "cell_type": "markdown",
   "id": "173873db",
   "metadata": {
    "papermill": {
     "duration": 0.024268,
     "end_time": "2024-09-19T09:25:33.217630",
     "exception": false,
     "start_time": "2024-09-19T09:25:33.193362",
     "status": "completed"
    },
    "tags": []
   },
   "source": [
    "<a id='3.4'></a>\n",
    "#### 3.4. Computing Total No. of Missing Values and the Percentage of Missing Values"
   ]
  },
  {
   "cell_type": "code",
   "execution_count": 9,
   "id": "e5d41c3e",
   "metadata": {
    "execution": {
     "iopub.execute_input": "2024-09-19T09:25:33.269586Z",
     "iopub.status.busy": "2024-09-19T09:25:33.268961Z",
     "iopub.status.idle": "2024-09-19T09:25:33.310942Z",
     "shell.execute_reply": "2024-09-19T09:25:33.309986Z"
    },
    "papermill": {
     "duration": 0.070673,
     "end_time": "2024-09-19T09:25:33.312955",
     "exception": false,
     "start_time": "2024-09-19T09:25:33.242282",
     "status": "completed"
    },
    "tags": []
   },
   "outputs": [
    {
     "data": {
      "text/html": [
       "<div>\n",
       "<style scoped>\n",
       "    .dataframe tbody tr th:only-of-type {\n",
       "        vertical-align: middle;\n",
       "    }\n",
       "\n",
       "    .dataframe tbody tr th {\n",
       "        vertical-align: top;\n",
       "    }\n",
       "\n",
       "    .dataframe thead th {\n",
       "        text-align: right;\n",
       "    }\n",
       "</style>\n",
       "<table border=\"1\" class=\"dataframe\">\n",
       "  <thead>\n",
       "    <tr style=\"text-align: right;\">\n",
       "      <th></th>\n",
       "      <th>Total No. of Missing Values</th>\n",
       "      <th>% of Missing Values</th>\n",
       "    </tr>\n",
       "  </thead>\n",
       "  <tbody>\n",
       "    <tr>\n",
       "      <th>English</th>\n",
       "      <td>2</td>\n",
       "      <td>0.00</td>\n",
       "    </tr>\n",
       "    <tr>\n",
       "      <th>Hindi</th>\n",
       "      <td>312</td>\n",
       "      <td>0.24</td>\n",
       "    </tr>\n",
       "  </tbody>\n",
       "</table>\n",
       "</div>"
      ],
      "text/plain": [
       "         Total No. of Missing Values  % of Missing Values\n",
       "English                            2                 0.00\n",
       "Hindi                            312                 0.24"
      ]
     },
     "execution_count": 9,
     "metadata": {},
     "output_type": "execute_result"
    }
   ],
   "source": [
    "missing_data = data.isnull().sum().to_frame().rename(columns={0:\"Total No. of Missing Values\"})\n",
    "missing_data[\"% of Missing Values\"] = round((missing_data[\"Total No. of Missing Values\"]/len(data))*100,2)\n",
    "missing_data"
   ]
  },
  {
   "cell_type": "markdown",
   "id": "f197533f",
   "metadata": {
    "papermill": {
     "duration": 0.024271,
     "end_time": "2024-09-19T09:25:33.362140",
     "exception": false,
     "start_time": "2024-09-19T09:25:33.337869",
     "status": "completed"
    },
    "tags": []
   },
   "source": [
    "<div style=\"border-radius:10px; border:#808080 dashed; padding: 15px; background-color: ##F0E68C ; font-size:100%; text-align:left\">\n",
    "\n",
    "<h3 align=\"left\"><font color=brown> 🔍 Inference:</font></h3>\n",
    "\n",
    "* Some of the Attribute are having Missing Values.  "
   ]
  },
  {
   "cell_type": "markdown",
   "id": "08c2f345",
   "metadata": {
    "papermill": {
     "duration": 0.024001,
     "end_time": "2024-09-19T09:25:33.411536",
     "exception": false,
     "start_time": "2024-09-19T09:25:33.387535",
     "status": "completed"
    },
    "tags": []
   },
   "source": [
    "<a id='3.5'></a>\n",
    "#### 3.5. Performing Descriptive Analysis"
   ]
  },
  {
   "cell_type": "code",
   "execution_count": 10,
   "id": "6f27fa96",
   "metadata": {
    "execution": {
     "iopub.execute_input": "2024-09-19T09:25:33.461804Z",
     "iopub.status.busy": "2024-09-19T09:25:33.461054Z",
     "iopub.status.idle": "2024-09-19T09:25:33.663962Z",
     "shell.execute_reply": "2024-09-19T09:25:33.663050Z"
    },
    "papermill": {
     "duration": 0.231666,
     "end_time": "2024-09-19T09:25:33.667580",
     "exception": false,
     "start_time": "2024-09-19T09:25:33.435914",
     "status": "completed"
    },
    "tags": []
   },
   "outputs": [
    {
     "data": {
      "text/html": [
       "<div>\n",
       "<style scoped>\n",
       "    .dataframe tbody tr th:only-of-type {\n",
       "        vertical-align: middle;\n",
       "    }\n",
       "\n",
       "    .dataframe tbody tr th {\n",
       "        vertical-align: top;\n",
       "    }\n",
       "\n",
       "    .dataframe thead th {\n",
       "        text-align: right;\n",
       "    }\n",
       "</style>\n",
       "<table border=\"1\" class=\"dataframe\">\n",
       "  <thead>\n",
       "    <tr style=\"text-align: right;\">\n",
       "      <th></th>\n",
       "      <th>count</th>\n",
       "      <th>unique</th>\n",
       "      <th>top</th>\n",
       "      <th>freq</th>\n",
       "    </tr>\n",
       "  </thead>\n",
       "  <tbody>\n",
       "    <tr>\n",
       "      <th>English</th>\n",
       "      <td>130474</td>\n",
       "      <td>126959</td>\n",
       "      <td>(Laughter)</td>\n",
       "      <td>555</td>\n",
       "    </tr>\n",
       "    <tr>\n",
       "      <th>Hindi</th>\n",
       "      <td>130164</td>\n",
       "      <td>100228</td>\n",
       "      <td>(हँसी)</td>\n",
       "      <td>212</td>\n",
       "    </tr>\n",
       "  </tbody>\n",
       "</table>\n",
       "</div>"
      ],
      "text/plain": [
       "          count  unique         top freq\n",
       "English  130474  126959  (Laughter)  555\n",
       "Hindi    130164  100228      (हँसी)  212"
      ]
     },
     "execution_count": 10,
     "metadata": {},
     "output_type": "execute_result"
    }
   ],
   "source": [
    "round(data.describe().T,2)"
   ]
  },
  {
   "cell_type": "markdown",
   "id": "4815c454",
   "metadata": {
    "papermill": {
     "duration": 0.025757,
     "end_time": "2024-09-19T09:25:33.726215",
     "exception": false,
     "start_time": "2024-09-19T09:25:33.700458",
     "status": "completed"
    },
    "tags": []
   },
   "source": [
    "<center><div style='color:#ffffff;\n",
    "           display:inline-block;\n",
    "           padding: 5px 5px 5px 5px;\n",
    "           border-radius:5px;\n",
    "           background-color:#78D1E1;\n",
    "           font-size:100%;'><a href=#toc style='text-decoration: none; color:#03001C;'>⬆️ Back To Top</a></div></center>\n",
    "\n",
    "<a id='4'></a>\n",
    "# 4 | Preprocessing\n",
    "\n",
    "<div style=\"padding: 4px;color:white;margin:10;font-size:200%;text-align:center;display:fill;border-radius:10px;overflow:hidden;background-image: url(https://i.postimg.cc/fTDmwnkQ/Miaka.png); background-size: 100% auto;\"></div>\n"
   ]
  },
  {
   "cell_type": "markdown",
   "id": "ac082437",
   "metadata": {
    "papermill": {
     "duration": 0.025765,
     "end_time": "2024-09-19T09:25:33.777760",
     "exception": false,
     "start_time": "2024-09-19T09:25:33.751995",
     "status": "completed"
    },
    "tags": []
   },
   "source": [
    "<a id='4.1'></a>\n",
    "### **1. Dropping Duplicates and Null Values**"
   ]
  },
  {
   "cell_type": "code",
   "execution_count": 11,
   "id": "d96acb88",
   "metadata": {
    "execution": {
     "iopub.execute_input": "2024-09-19T09:25:33.830013Z",
     "iopub.status.busy": "2024-09-19T09:25:33.829669Z",
     "iopub.status.idle": "2024-09-19T09:25:33.911705Z",
     "shell.execute_reply": "2024-09-19T09:25:33.910939Z"
    },
    "papermill": {
     "duration": 0.11025,
     "end_time": "2024-09-19T09:25:33.913871",
     "exception": false,
     "start_time": "2024-09-19T09:25:33.803621",
     "status": "completed"
    },
    "tags": []
   },
   "outputs": [],
   "source": [
    "data.drop_duplicates(inplace = True)"
   ]
  },
  {
   "cell_type": "code",
   "execution_count": 12,
   "id": "28c87cdf",
   "metadata": {
    "execution": {
     "iopub.execute_input": "2024-09-19T09:25:33.965493Z",
     "iopub.status.busy": "2024-09-19T09:25:33.964803Z",
     "iopub.status.idle": "2024-09-19T09:25:34.005755Z",
     "shell.execute_reply": "2024-09-19T09:25:34.005027Z"
    },
    "papermill": {
     "duration": 0.068869,
     "end_time": "2024-09-19T09:25:34.007741",
     "exception": false,
     "start_time": "2024-09-19T09:25:33.938872",
     "status": "completed"
    },
    "tags": []
   },
   "outputs": [],
   "source": [
    "data.dropna(inplace = True)"
   ]
  },
  {
   "cell_type": "markdown",
   "id": "a3eceed7",
   "metadata": {
    "papermill": {
     "duration": 0.024099,
     "end_time": "2024-09-19T09:25:34.056427",
     "exception": false,
     "start_time": "2024-09-19T09:25:34.032328",
     "status": "completed"
    },
    "tags": []
   },
   "source": [
    "<a id='4.2'></a>\n",
    "### **2. Lowercasing**"
   ]
  },
  {
   "cell_type": "code",
   "execution_count": 13,
   "id": "256bb0a7",
   "metadata": {
    "execution": {
     "iopub.execute_input": "2024-09-19T09:25:34.106737Z",
     "iopub.status.busy": "2024-09-19T09:25:34.106017Z",
     "iopub.status.idle": "2024-09-19T09:25:34.164009Z",
     "shell.execute_reply": "2024-09-19T09:25:34.163253Z"
    },
    "papermill": {
     "duration": 0.085448,
     "end_time": "2024-09-19T09:25:34.166139",
     "exception": false,
     "start_time": "2024-09-19T09:25:34.080691",
     "status": "completed"
    },
    "tags": []
   },
   "outputs": [],
   "source": [
    "data['English'] = data['English'].str.lower()"
   ]
  },
  {
   "cell_type": "markdown",
   "id": "86667c00",
   "metadata": {
    "execution": {
     "iopub.execute_input": "2024-07-07T14:29:08.534756Z",
     "iopub.status.busy": "2024-07-07T14:29:08.534207Z",
     "iopub.status.idle": "2024-07-07T14:29:08.542960Z",
     "shell.execute_reply": "2024-07-07T14:29:08.540966Z",
     "shell.execute_reply.started": "2024-07-07T14:29:08.534718Z"
    },
    "papermill": {
     "duration": 0.026924,
     "end_time": "2024-09-19T09:25:34.218357",
     "exception": false,
     "start_time": "2024-09-19T09:25:34.191433",
     "status": "completed"
    },
    "tags": []
   },
   "source": [
    "<a id='4.3'></a>\n",
    "### **3. Removing Html tags**"
   ]
  },
  {
   "cell_type": "code",
   "execution_count": 14,
   "id": "4b521a64",
   "metadata": {
    "execution": {
     "iopub.execute_input": "2024-09-19T09:25:34.273652Z",
     "iopub.status.busy": "2024-09-19T09:25:34.273279Z",
     "iopub.status.idle": "2024-09-19T09:25:34.278223Z",
     "shell.execute_reply": "2024-09-19T09:25:34.277213Z"
    },
    "papermill": {
     "duration": 0.035014,
     "end_time": "2024-09-19T09:25:34.280296",
     "exception": false,
     "start_time": "2024-09-19T09:25:34.245282",
     "status": "completed"
    },
    "tags": []
   },
   "outputs": [],
   "source": [
    "import re\n",
    "def remove_html_tags(text):\n",
    "    pattern = r'[^a-zA-Z0-9\\s]'\n",
    "    text = re.sub(pattern,'',text)\n",
    "    return text"
   ]
  },
  {
   "cell_type": "code",
   "execution_count": 15,
   "id": "c7f32054",
   "metadata": {
    "execution": {
     "iopub.execute_input": "2024-09-19T09:25:34.335794Z",
     "iopub.status.busy": "2024-09-19T09:25:34.335516Z",
     "iopub.status.idle": "2024-09-19T09:25:34.915120Z",
     "shell.execute_reply": "2024-09-19T09:25:34.914262Z"
    },
    "papermill": {
     "duration": 0.610658,
     "end_time": "2024-09-19T09:25:34.917580",
     "exception": false,
     "start_time": "2024-09-19T09:25:34.306922",
     "status": "completed"
    },
    "tags": []
   },
   "outputs": [],
   "source": [
    "data['English'] = data['English'].apply(remove_html_tags)"
   ]
  },
  {
   "cell_type": "markdown",
   "id": "b6b5974d",
   "metadata": {
    "execution": {
     "iopub.execute_input": "2024-07-07T14:37:08.593797Z",
     "iopub.status.busy": "2024-07-07T14:37:08.592770Z",
     "iopub.status.idle": "2024-07-07T14:37:08.602270Z",
     "shell.execute_reply": "2024-07-07T14:37:08.600439Z",
     "shell.execute_reply.started": "2024-07-07T14:37:08.593754Z"
    },
    "papermill": {
     "duration": 0.024306,
     "end_time": "2024-09-19T09:25:34.967361",
     "exception": false,
     "start_time": "2024-09-19T09:25:34.943055",
     "status": "completed"
    },
    "tags": []
   },
   "source": [
    "<a id='4.4'></a>\n",
    "### **4.  Removing URLs**"
   ]
  },
  {
   "cell_type": "code",
   "execution_count": 16,
   "id": "dc61134f",
   "metadata": {
    "execution": {
     "iopub.execute_input": "2024-09-19T09:25:35.017543Z",
     "iopub.status.busy": "2024-09-19T09:25:35.017194Z",
     "iopub.status.idle": "2024-09-19T09:25:35.857090Z",
     "shell.execute_reply": "2024-09-19T09:25:35.856276Z"
    },
    "papermill": {
     "duration": 0.867498,
     "end_time": "2024-09-19T09:25:35.859453",
     "exception": false,
     "start_time": "2024-09-19T09:25:34.991955",
     "status": "completed"
    },
    "tags": []
   },
   "outputs": [],
   "source": [
    "def remove_url(text):\n",
    "    pattern = re.compile(r'https?://\\S+|www\\.\\S+')\n",
    "    return pattern.sub(r'',text)\n",
    "\n",
    "data['English'] = data['English'].apply(remove_url)\n",
    "data['Hindi'] = data['Hindi'].apply(remove_url)"
   ]
  },
  {
   "cell_type": "markdown",
   "id": "d03661a1",
   "metadata": {
    "papermill": {
     "duration": 0.025964,
     "end_time": "2024-09-19T09:25:35.912118",
     "exception": false,
     "start_time": "2024-09-19T09:25:35.886154",
     "status": "completed"
    },
    "tags": []
   },
   "source": [
    "<a id='4.5'></a>\n",
    "### **5. Chat word treatment**"
   ]
  },
  {
   "cell_type": "code",
   "execution_count": 17,
   "id": "6ad679ff",
   "metadata": {
    "execution": {
     "iopub.execute_input": "2024-09-19T09:25:35.962338Z",
     "iopub.status.busy": "2024-09-19T09:25:35.962007Z",
     "iopub.status.idle": "2024-09-19T09:25:35.980031Z",
     "shell.execute_reply": "2024-09-19T09:25:35.979129Z"
    },
    "papermill": {
     "duration": 0.045725,
     "end_time": "2024-09-19T09:25:35.982036",
     "exception": false,
     "start_time": "2024-09-19T09:25:35.936311",
     "status": "completed"
    },
    "tags": []
   },
   "outputs": [],
   "source": [
    "chat_words = {\n",
    "    \"AFAIK\": \"As Far As I Know\",\n",
    "    \"AFK\": \"Away From Keyboard\",\n",
    "    \"ASAP\": \"As Soon As Possible\",\n",
    "    \"ATK\": \"At The Keyboard\",\n",
    "    \"ATM\": \"At The Moment\",\n",
    "    \"A3\": \"Anytime, Anywhere, Anyplace\",\n",
    "    \"BAK\": \"Back At Keyboard\",\n",
    "    \"BBL\": \"Be Back Later\",\n",
    "    \"BBS\": \"Be Back Soon\",\n",
    "    \"BFN\": \"Bye For Now\",\n",
    "    \"B4N\": \"Bye For Now\",\n",
    "    \"BRB\": \"Be Right Back\",\n",
    "    \"BRT\": \"Be Right There\",\n",
    "    \"BTW\": \"By The Way\",\n",
    "    \"B4\": \"Before\",\n",
    "    \"CU\": \"See You\",\n",
    "    \"CUL8R\": \"See You Later\",\n",
    "    \"CYA\": \"See You\",\n",
    "    \"FAQ\": \"Frequently Asked Questions\",\n",
    "    \"FC\": \"Fingers Crossed\",\n",
    "    \"FWIW\": \"For What It's Worth\",\n",
    "    \"FYI\": \"For Your Information\",\n",
    "    \"GAL\": \"Get A Life\",\n",
    "    \"GG\": \"Good Game\",\n",
    "    \"GN\": \"Good Night\",\n",
    "    \"GMTA\": \"Great Minds Think Alike\",\n",
    "    \"GR8\": \"Great!\",\n",
    "    \"G9\": \"Genius\",\n",
    "    \"IC\": \"I See\",\n",
    "    \"ICQ\": \"I Seek you (also a chat program)\",\n",
    "    \"ILU\": \"I Love You\",\n",
    "    \"IMHO\": \"In My Honest/Humble Opinion\",\n",
    "    \"IMO\": \"In My Opinion\",\n",
    "    \"IOW\": \"In Other Words\",\n",
    "    \"IRL\": \"In Real Life\",\n",
    "    \"KISS\": \"Keep It Simple, Stupid\",\n",
    "    \"LDR\": \"Long Distance Relationship\",\n",
    "    \"LMAO\": \"Laugh My A.. Off\",\n",
    "    \"LOL\": \"Laughing Out Loud\",\n",
    "    \"LTNS\": \"Long Time No See\",\n",
    "    \"L8R\": \"Later\",\n",
    "    \"MTE\": \"My Thoughts Exactly\",\n",
    "    \"M8\": \"Mate\",\n",
    "    \"NRN\": \"No Reply Necessary\",\n",
    "    \"OIC\": \"Oh I See\",\n",
    "    \"PITA\": \"Pain In The A..\",\n",
    "    \"PRT\": \"Party\",\n",
    "    \"PRW\": \"Parents Are Watching\",\n",
    "    \"QPSA\": \"Que Pasa?\",\n",
    "    \"ROFL\": \"Rolling On The Floor Laughing\",\n",
    "    \"ROFLOL\": \"Rolling On The Floor Laughing Out Loud\",\n",
    "    \"ROTFLMAO\": \"Rolling On The Floor Laughing My A.. Off\",\n",
    "    \"SK8\": \"Skate\",\n",
    "    \"STATS\": \"Your sex and age\",\n",
    "    \"ASL\": \"Age, Sex, Location\",\n",
    "    \"THX\": \"Thank You\",\n",
    "    \"TTFN\": \"Ta-Ta For Now!\",\n",
    "    \"TTYL\": \"Talk To You Later\",\n",
    "    \"U\": \"You\",\n",
    "    \"U2\": \"You Too\",\n",
    "    \"U4E\": \"Yours For Ever\",\n",
    "    \"WB\": \"Welcome Back\",\n",
    "    \"WTF\": \"What The F...\",\n",
    "    \"WTG\": \"Way To Go!\",\n",
    "    \"WUF\": \"Where Are You From?\",\n",
    "    \"W8\": \"Wait...\",\n",
    "    \"7K\": \"Sick:-D Laughter\",\n",
    "    \"TFW\": \"That feeling when\",\n",
    "    \"MFW\": \"My face when\",\n",
    "    \"MRW\": \"My reaction when\",\n",
    "    \"IFYP\": \"I feel your pain\",\n",
    "    \"LOL\": \"Laughing out loud\",\n",
    "    \"TNTL\": \"Trying not to laugh\",\n",
    "    \"JK\": \"Just kidding\",\n",
    "    \"IDC\": \"I don’t care\",\n",
    "    \"ILY\": \"I love you\",\n",
    "    \"IMU\": \"I miss you\",\n",
    "    \"ADIH\": \"Another day in hell\",\n",
    "    \"IDC\": \"I don’t care\",\n",
    "    \"ZZZ\": \"Sleeping, bored, tired\",\n",
    "    \"WYWH\": \"Wish you were here\",\n",
    "    \"TIME\": \"Tears in my eyes\",\n",
    "    \"BAE\": \"Before anyone else\",\n",
    "    \"FIMH\": \"Forever in my heart\",\n",
    "    \"BSAAW\": \"Big smile and a wink\",\n",
    "    \"BWL\": \"Bursting with laughter\",\n",
    "    \"LMAO\": \"Laughing my a** off\",\n",
    "    \"BFF\": \"Best friends forever\",\n",
    "    \"CSL\": \"Can’t stop laughing\",\n",
    "}"
   ]
  },
  {
   "cell_type": "code",
   "execution_count": 18,
   "id": "8ae56db2",
   "metadata": {
    "execution": {
     "iopub.execute_input": "2024-09-19T09:25:36.031956Z",
     "iopub.status.busy": "2024-09-19T09:25:36.031685Z",
     "iopub.status.idle": "2024-09-19T09:25:36.036474Z",
     "shell.execute_reply": "2024-09-19T09:25:36.035593Z"
    },
    "papermill": {
     "duration": 0.032237,
     "end_time": "2024-09-19T09:25:36.038365",
     "exception": false,
     "start_time": "2024-09-19T09:25:36.006128",
     "status": "completed"
    },
    "tags": []
   },
   "outputs": [],
   "source": [
    "def chat_conversion(text):\n",
    "    new_text=[]\n",
    "    for w in text.split():\n",
    "        if w.upper() in chat_words:\n",
    "            new_text.append(chat_words[w.upper()])\n",
    "        else:\n",
    "            new_text.append(w)\n",
    "    return \" \".join(new_text)"
   ]
  },
  {
   "cell_type": "code",
   "execution_count": 19,
   "id": "7ee90400",
   "metadata": {
    "execution": {
     "iopub.execute_input": "2024-09-19T09:25:36.087412Z",
     "iopub.status.busy": "2024-09-19T09:25:36.087146Z",
     "iopub.status.idle": "2024-09-19T09:25:36.947458Z",
     "shell.execute_reply": "2024-09-19T09:25:36.946414Z"
    },
    "papermill": {
     "duration": 0.887629,
     "end_time": "2024-09-19T09:25:36.949992",
     "exception": false,
     "start_time": "2024-09-19T09:25:36.062363",
     "status": "completed"
    },
    "tags": []
   },
   "outputs": [],
   "source": [
    "data['English'] = data['English'].apply(chat_conversion)"
   ]
  },
  {
   "cell_type": "markdown",
   "id": "b42cd610",
   "metadata": {
    "papermill": {
     "duration": 0.024419,
     "end_time": "2024-09-19T09:25:37.000150",
     "exception": false,
     "start_time": "2024-09-19T09:25:36.975731",
     "status": "completed"
    },
    "tags": []
   },
   "source": [
    "<a id='4.6'></a>\n",
    "### **6. Removing Emojis**"
   ]
  },
  {
   "cell_type": "code",
   "execution_count": 20,
   "id": "9c1edb44",
   "metadata": {
    "execution": {
     "iopub.execute_input": "2024-09-19T09:25:37.049912Z",
     "iopub.status.busy": "2024-09-19T09:25:37.049623Z",
     "iopub.status.idle": "2024-09-19T09:25:37.054798Z",
     "shell.execute_reply": "2024-09-19T09:25:37.053951Z"
    },
    "papermill": {
     "duration": 0.032322,
     "end_time": "2024-09-19T09:25:37.056779",
     "exception": false,
     "start_time": "2024-09-19T09:25:37.024457",
     "status": "completed"
    },
    "tags": []
   },
   "outputs": [],
   "source": [
    "def remove_emoji(text):\n",
    "    emoji_pattern = re.compile(\"[\"\n",
    "                           u\"\\U0001F600-\\U0001F64F\"  # emoticons\n",
    "                           u\"\\U0001F300-\\U0001F5FF\"  # symbols & pictographs\n",
    "                           u\"\\U0001F680-\\U0001F6FF\"  # transport & map symbols\n",
    "                           u\"\\U0001F1E0-\\U0001F1FF\"  # flags (iOS)\n",
    "                           u\"\\U00002702-\\U000027B0\"\n",
    "                           u\"\\U000024C2-\\U0001F251\"\n",
    "                           \"]+\", flags=re.UNICODE)\n",
    "    return emoji_pattern.sub(r'', text)"
   ]
  },
  {
   "cell_type": "code",
   "execution_count": 21,
   "id": "c589aa24",
   "metadata": {
    "execution": {
     "iopub.execute_input": "2024-09-19T09:25:37.107370Z",
     "iopub.status.busy": "2024-09-19T09:25:37.107082Z",
     "iopub.status.idle": "2024-09-19T09:25:39.034522Z",
     "shell.execute_reply": "2024-09-19T09:25:39.033542Z"
    },
    "papermill": {
     "duration": 1.955676,
     "end_time": "2024-09-19T09:25:39.036965",
     "exception": false,
     "start_time": "2024-09-19T09:25:37.081289",
     "status": "completed"
    },
    "tags": []
   },
   "outputs": [],
   "source": [
    "data['English'] = data['English'].apply(remove_emoji)\n",
    "data['Hindi'] = data['Hindi'].apply(remove_emoji)"
   ]
  },
  {
   "cell_type": "markdown",
   "id": "513c6558",
   "metadata": {
    "papermill": {
     "duration": 0.025762,
     "end_time": "2024-09-19T09:25:39.091365",
     "exception": false,
     "start_time": "2024-09-19T09:25:39.065603",
     "status": "completed"
    },
    "tags": []
   },
   "source": [
    "<a id='4.7'></a>\n",
    "### **7. Removing contraction**"
   ]
  },
  {
   "cell_type": "code",
   "execution_count": 22,
   "id": "9fcc1082",
   "metadata": {
    "execution": {
     "iopub.execute_input": "2024-09-19T09:25:39.143723Z",
     "iopub.status.busy": "2024-09-19T09:25:39.142948Z",
     "iopub.status.idle": "2024-09-19T09:25:40.660367Z",
     "shell.execute_reply": "2024-09-19T09:25:40.659530Z"
    },
    "papermill": {
     "duration": 1.545571,
     "end_time": "2024-09-19T09:25:40.662725",
     "exception": false,
     "start_time": "2024-09-19T09:25:39.117154",
     "status": "completed"
    },
    "tags": []
   },
   "outputs": [],
   "source": [
    "def expand_contractions(text):\n",
    "    expanded_text = contractions.fix(text)\n",
    "    return expanded_text\n",
    "\n",
    "data['English'] = data['English'].apply(expand_contractions)"
   ]
  },
  {
   "cell_type": "markdown",
   "id": "7900e218",
   "metadata": {
    "papermill": {
     "duration": 0.024818,
     "end_time": "2024-09-19T09:25:40.712452",
     "exception": false,
     "start_time": "2024-09-19T09:25:40.687634",
     "status": "completed"
    },
    "tags": []
   },
   "source": [
    "<a id='4.8'></a>\n",
    "### **8. Remove Non-Hindi and Alphanumeric characters**"
   ]
  },
  {
   "cell_type": "code",
   "execution_count": 23,
   "id": "4e991ae7",
   "metadata": {
    "execution": {
     "iopub.execute_input": "2024-09-19T09:25:40.762753Z",
     "iopub.status.busy": "2024-09-19T09:25:40.762442Z",
     "iopub.status.idle": "2024-09-19T09:25:41.850755Z",
     "shell.execute_reply": "2024-09-19T09:25:41.849957Z"
    },
    "papermill": {
     "duration": 1.116501,
     "end_time": "2024-09-19T09:25:41.853259",
     "exception": false,
     "start_time": "2024-09-19T09:25:40.736758",
     "status": "completed"
    },
    "tags": []
   },
   "outputs": [],
   "source": [
    "def preprocess_text(text, language='english'):\n",
    "    if not isinstance(text, str):\n",
    "        return text\n",
    "    \n",
    "    if language == 'english':\n",
    "        pattern = re.compile(r'[^a-zA-Z0-9\\s]')\n",
    "        return pattern.sub(r'', text)\n",
    "    elif language == 'hindi':\n",
    "        pattern = re.compile(r'[^\\u0900-\\u097F\\s]')\n",
    "        return pattern.sub(r'', text)\n",
    "    else:\n",
    "        raise ValueError(\"Unsupported Language, Supported languages are 'english' and 'hindi'\")\n",
    "        \n",
    "data['English'] = data['English'].apply(lambda x: preprocess_text(x, language='english'))\n",
    "data['Hindi'] = data['Hindi'].apply(lambda x: preprocess_text(x, language='hindi'))"
   ]
  },
  {
   "cell_type": "code",
   "execution_count": 24,
   "id": "9ff82d71",
   "metadata": {
    "execution": {
     "iopub.execute_input": "2024-09-19T09:25:41.904497Z",
     "iopub.status.busy": "2024-09-19T09:25:41.904170Z",
     "iopub.status.idle": "2024-09-19T09:25:41.918932Z",
     "shell.execute_reply": "2024-09-19T09:25:41.917947Z"
    },
    "papermill": {
     "duration": 0.042294,
     "end_time": "2024-09-19T09:25:41.920799",
     "exception": false,
     "start_time": "2024-09-19T09:25:41.878505",
     "status": "completed"
    },
    "tags": []
   },
   "outputs": [
    {
     "data": {
      "text/html": [
       "<div>\n",
       "<style scoped>\n",
       "    .dataframe tbody tr th:only-of-type {\n",
       "        vertical-align: middle;\n",
       "    }\n",
       "\n",
       "    .dataframe tbody tr th {\n",
       "        vertical-align: top;\n",
       "    }\n",
       "\n",
       "    .dataframe thead th {\n",
       "        text-align: right;\n",
       "    }\n",
       "</style>\n",
       "<table border=\"1\" class=\"dataframe\">\n",
       "  <thead>\n",
       "    <tr style=\"text-align: right;\">\n",
       "      <th></th>\n",
       "      <th>English</th>\n",
       "      <th>Hindi</th>\n",
       "    </tr>\n",
       "  </thead>\n",
       "  <tbody>\n",
       "    <tr>\n",
       "      <th>50914</th>\n",
       "      <td>all district court cases are transferred to it</td>\n",
       "      <td>सभी जिल अदालतों के मामले उसके पास स्थानांतरित ...</td>\n",
       "    </tr>\n",
       "    <tr>\n",
       "      <th>91140</th>\n",
       "      <td>can occur without a significant relationship</td>\n",
       "      <td>जब तक कि एक रिश्ता न हो।</td>\n",
       "    </tr>\n",
       "    <tr>\n",
       "      <th>107563</th>\n",
       "      <td>all the others have been all those three</td>\n",
       "      <td>बाकी सभी ये तीनो थे</td>\n",
       "    </tr>\n",
       "    <tr>\n",
       "      <th>38596</th>\n",
       "      <td>to fundamentally reframe</td>\n",
       "      <td>की सरकार में मूलरूपी नयी सरंचना हो</td>\n",
       "    </tr>\n",
       "    <tr>\n",
       "      <th>59297</th>\n",
       "      <td>those public authorities in performing their p...</td>\n",
       "      <td>वह सार्वज़निक अथॉरिटीज़ जब अपने सार्वज़निक कार...</td>\n",
       "    </tr>\n",
       "  </tbody>\n",
       "</table>\n",
       "</div>"
      ],
      "text/plain": [
       "                                                  English  \\\n",
       "50914      all district court cases are transferred to it   \n",
       "91140        can occur without a significant relationship   \n",
       "107563           all the others have been all those three   \n",
       "38596                            to fundamentally reframe   \n",
       "59297   those public authorities in performing their p...   \n",
       "\n",
       "                                                    Hindi  \n",
       "50914   सभी जिल अदालतों के मामले उसके पास स्थानांतरित ...  \n",
       "91140                            जब तक कि एक रिश्ता न हो।  \n",
       "107563                                बाकी सभी ये तीनो थे  \n",
       "38596                  की सरकार में मूलरूपी नयी सरंचना हो  \n",
       "59297   वह सार्वज़निक अथॉरिटीज़ जब अपने सार्वज़निक कार...  "
      ]
     },
     "execution_count": 24,
     "metadata": {},
     "output_type": "execute_result"
    }
   ],
   "source": [
    "data.sample(5)"
   ]
  },
  {
   "cell_type": "markdown",
   "id": "0346a8b1",
   "metadata": {
    "papermill": {
     "duration": 0.024641,
     "end_time": "2024-09-19T09:25:41.970190",
     "exception": false,
     "start_time": "2024-09-19T09:25:41.945549",
     "status": "completed"
    },
    "tags": []
   },
   "source": [
    "<a id='4.9'></a>\n",
    "### **9. WordCloud**"
   ]
  },
  {
   "cell_type": "code",
   "execution_count": 25,
   "id": "94ce3b18",
   "metadata": {
    "execution": {
     "iopub.execute_input": "2024-09-19T09:25:42.021703Z",
     "iopub.status.busy": "2024-09-19T09:25:42.021410Z",
     "iopub.status.idle": "2024-09-19T09:25:42.027377Z",
     "shell.execute_reply": "2024-09-19T09:25:42.026543Z"
    },
    "papermill": {
     "duration": 0.033556,
     "end_time": "2024-09-19T09:25:42.029265",
     "exception": false,
     "start_time": "2024-09-19T09:25:41.995709",
     "status": "completed"
    },
    "tags": []
   },
   "outputs": [],
   "source": [
    "# Function to preprocess text and generate word cloud\n",
    "def generate_wordcloud(text_list, language):\n",
    "    # Join the list of words into a single string\n",
    "    text_str = ' '.join(map(str, text_list))\n",
    "    \n",
    "    # Generate word cloud without specifying font path\n",
    "    wordcloud = WordCloud(width=800, height=400, background_color='white', colormap='viridis').generate(text_str)\n",
    "    \n",
    "    # Display word cloud\n",
    "    plt.figure(figsize=(10, 5))\n",
    "    plt.imshow(wordcloud, interpolation='bilinear')\n",
    "    plt.title(f\"Word Cloud for {language} Text\")\n",
    "    plt.axis('off')\n",
    "    plt.show()"
   ]
  },
  {
   "cell_type": "code",
   "execution_count": 26,
   "id": "b39fb50a",
   "metadata": {
    "execution": {
     "iopub.execute_input": "2024-09-19T09:25:42.078969Z",
     "iopub.status.busy": "2024-09-19T09:25:42.078691Z",
     "iopub.status.idle": "2024-09-19T09:25:51.712958Z",
     "shell.execute_reply": "2024-09-19T09:25:51.712013Z"
    },
    "papermill": {
     "duration": 9.664264,
     "end_time": "2024-09-19T09:25:51.717966",
     "exception": false,
     "start_time": "2024-09-19T09:25:42.053702",
     "status": "completed"
    },
    "tags": []
   },
   "outputs": [
    {
     "data": {
      "image/png": "[encoded data removed]",
      "text/plain": [
       "<Figure size 1000x500 with 1 Axes>"
      ]
     },
     "metadata": {},
     "output_type": "display_data"
    }
   ],
   "source": [
    "# Generate word clouds for English and Hindi columns\n",
    "generate_wordcloud(data['English'], 'english')"
   ]
  },
  {
   "cell_type": "code",
   "execution_count": 27,
   "id": "021fc74f",
   "metadata": {
    "execution": {
     "iopub.execute_input": "2024-09-19T09:25:51.779587Z",
     "iopub.status.busy": "2024-09-19T09:25:51.779283Z",
     "iopub.status.idle": "2024-09-19T09:25:51.784814Z",
     "shell.execute_reply": "2024-09-19T09:25:51.783959Z"
    },
    "papermill": {
     "duration": 0.038511,
     "end_time": "2024-09-19T09:25:51.786705",
     "exception": false,
     "start_time": "2024-09-19T09:25:51.748194",
     "status": "completed"
    },
    "tags": []
   },
   "outputs": [
    {
     "data": {
      "text/plain": [
       "(127375, 2)"
      ]
     },
     "execution_count": 27,
     "metadata": {},
     "output_type": "execute_result"
    }
   ],
   "source": [
    "data.shape"
   ]
  },
  {
   "cell_type": "code",
   "execution_count": 28,
   "id": "2b4f82c4",
   "metadata": {
    "execution": {
     "iopub.execute_input": "2024-09-19T09:25:51.848043Z",
     "iopub.status.busy": "2024-09-19T09:25:51.847141Z",
     "iopub.status.idle": "2024-09-19T09:25:51.941572Z",
     "shell.execute_reply": "2024-09-19T09:25:51.940597Z"
    },
    "papermill": {
     "duration": 0.127603,
     "end_time": "2024-09-19T09:25:51.943737",
     "exception": false,
     "start_time": "2024-09-19T09:25:51.816134",
     "status": "completed"
    },
    "tags": []
   },
   "outputs": [],
   "source": [
    "data = data[data['English'].str.len() <= 50]"
   ]
  },
  {
   "cell_type": "code",
   "execution_count": 29,
   "id": "1a731766",
   "metadata": {
    "execution": {
     "iopub.execute_input": "2024-09-19T09:25:52.005728Z",
     "iopub.status.busy": "2024-09-19T09:25:52.005146Z",
     "iopub.status.idle": "2024-09-19T09:25:52.010866Z",
     "shell.execute_reply": "2024-09-19T09:25:52.010023Z"
    },
    "papermill": {
     "duration": 0.038667,
     "end_time": "2024-09-19T09:25:52.012831",
     "exception": false,
     "start_time": "2024-09-19T09:25:51.974164",
     "status": "completed"
    },
    "tags": []
   },
   "outputs": [
    {
     "data": {
      "text/plain": [
       "(50157, 2)"
      ]
     },
     "execution_count": 29,
     "metadata": {},
     "output_type": "execute_result"
    }
   ],
   "source": [
    "data.shape"
   ]
  },
  {
   "cell_type": "code",
   "execution_count": 30,
   "id": "e138c880",
   "metadata": {
    "execution": {
     "iopub.execute_input": "2024-09-19T09:25:52.073373Z",
     "iopub.status.busy": "2024-09-19T09:25:52.073087Z",
     "iopub.status.idle": "2024-09-19T09:25:52.107183Z",
     "shell.execute_reply": "2024-09-19T09:25:52.106328Z"
    },
    "papermill": {
     "duration": 0.066705,
     "end_time": "2024-09-19T09:25:52.109219",
     "exception": false,
     "start_time": "2024-09-19T09:25:52.042514",
     "status": "completed"
    },
    "tags": []
   },
   "outputs": [],
   "source": [
    "# Add <start> and <end> tokens to Hindi sentences\n",
    "data['Hindi'] = ['<start> ' + sentence + ' <end>' for sentence in data['Hindi']]"
   ]
  },
  {
   "cell_type": "markdown",
   "id": "5ba5a8c5",
   "metadata": {
    "papermill": {
     "duration": 0.029267,
     "end_time": "2024-09-19T09:25:52.168644",
     "exception": false,
     "start_time": "2024-09-19T09:25:52.139377",
     "status": "completed"
    },
    "tags": []
   },
   "source": [
    "<a id='4.10'></a>\n",
    "### **10. Tokenize on the Data**"
   ]
  },
  {
   "cell_type": "code",
   "execution_count": 31,
   "id": "51e344a6",
   "metadata": {
    "execution": {
     "iopub.execute_input": "2024-09-19T09:25:52.229629Z",
     "iopub.status.busy": "2024-09-19T09:25:52.228850Z",
     "iopub.status.idle": "2024-09-19T09:25:52.961531Z",
     "shell.execute_reply": "2024-09-19T09:25:52.960554Z"
    },
    "papermill": {
     "duration": 0.7659,
     "end_time": "2024-09-19T09:25:52.963917",
     "exception": false,
     "start_time": "2024-09-19T09:25:52.198017",
     "status": "completed"
    },
    "tags": []
   },
   "outputs": [],
   "source": [
    "tok = Tokenizer()\n",
    "tok.fit_on_texts(data['English'])"
   ]
  },
  {
   "cell_type": "code",
   "execution_count": 32,
   "id": "2bd8364b",
   "metadata": {
    "execution": {
     "iopub.execute_input": "2024-09-19T09:25:53.026237Z",
     "iopub.status.busy": "2024-09-19T09:25:53.025493Z",
     "iopub.status.idle": "2024-09-19T09:25:54.052871Z",
     "shell.execute_reply": "2024-09-19T09:25:54.051877Z"
    },
    "papermill": {
     "duration": 1.060437,
     "end_time": "2024-09-19T09:25:54.055201",
     "exception": false,
     "start_time": "2024-09-19T09:25:52.994764",
     "status": "completed"
    },
    "tags": []
   },
   "outputs": [],
   "source": [
    "tok_hindi = Tokenizer()\n",
    "tok_hindi.fit_on_texts(data['Hindi'])"
   ]
  },
  {
   "cell_type": "code",
   "execution_count": 33,
   "id": "a2f9718b",
   "metadata": {
    "execution": {
     "iopub.execute_input": "2024-09-19T09:25:54.117885Z",
     "iopub.status.busy": "2024-09-19T09:25:54.117121Z",
     "iopub.status.idle": "2024-09-19T09:25:54.123185Z",
     "shell.execute_reply": "2024-09-19T09:25:54.122369Z"
    },
    "papermill": {
     "duration": 0.038961,
     "end_time": "2024-09-19T09:25:54.125097",
     "exception": false,
     "start_time": "2024-09-19T09:25:54.086136",
     "status": "completed"
    },
    "tags": []
   },
   "outputs": [
    {
     "data": {
      "text/plain": [
       "(22870, 24779)"
      ]
     },
     "execution_count": 33,
     "metadata": {},
     "output_type": "execute_result"
    }
   ],
   "source": [
    "len(tok.word_index),len(tok_hindi.word_index)"
   ]
  },
  {
   "cell_type": "code",
   "execution_count": 34,
   "id": "3a2bafce",
   "metadata": {
    "execution": {
     "iopub.execute_input": "2024-09-19T09:25:54.186028Z",
     "iopub.status.busy": "2024-09-19T09:25:54.185746Z",
     "iopub.status.idle": "2024-09-19T09:25:54.191347Z",
     "shell.execute_reply": "2024-09-19T09:25:54.190517Z"
    },
    "papermill": {
     "duration": 0.037978,
     "end_time": "2024-09-19T09:25:54.193159",
     "exception": false,
     "start_time": "2024-09-19T09:25:54.155181",
     "status": "completed"
    },
    "tags": []
   },
   "outputs": [
    {
     "data": {
      "text/plain": [
       "(22870, 24779)"
      ]
     },
     "execution_count": 34,
     "metadata": {},
     "output_type": "execute_result"
    }
   ],
   "source": [
    "len(tok.word_index),len(tok_hindi.word_index)"
   ]
  },
  {
   "cell_type": "code",
   "execution_count": 35,
   "id": "89d82cd5",
   "metadata": {
    "execution": {
     "iopub.execute_input": "2024-09-19T09:25:54.254464Z",
     "iopub.status.busy": "2024-09-19T09:25:54.253995Z",
     "iopub.status.idle": "2024-09-19T09:25:54.259282Z",
     "shell.execute_reply": "2024-09-19T09:25:54.258466Z"
    },
    "papermill": {
     "duration": 0.03827,
     "end_time": "2024-09-19T09:25:54.261152",
     "exception": false,
     "start_time": "2024-09-19T09:25:54.222882",
     "status": "completed"
    },
    "tags": []
   },
   "outputs": [
    {
     "data": {
      "text/plain": [
       "50157"
      ]
     },
     "execution_count": 35,
     "metadata": {},
     "output_type": "execute_result"
    }
   ],
   "source": [
    "tok.document_count"
   ]
  },
  {
   "cell_type": "markdown",
   "id": "e8fccd7a",
   "metadata": {
    "papermill": {
     "duration": 0.032118,
     "end_time": "2024-09-19T09:25:54.325236",
     "exception": false,
     "start_time": "2024-09-19T09:25:54.293118",
     "status": "completed"
    },
    "tags": []
   },
   "source": [
    "#### **Converting data in numerical forms**"
   ]
  },
  {
   "cell_type": "code",
   "execution_count": 36,
   "id": "492a124a",
   "metadata": {
    "execution": {
     "iopub.execute_input": "2024-09-19T09:25:54.389735Z",
     "iopub.status.busy": "2024-09-19T09:25:54.389028Z",
     "iopub.status.idle": "2024-09-19T09:25:56.173883Z",
     "shell.execute_reply": "2024-09-19T09:25:56.172878Z"
    },
    "papermill": {
     "duration": 1.818812,
     "end_time": "2024-09-19T09:25:56.176170",
     "exception": false,
     "start_time": "2024-09-19T09:25:54.357358",
     "status": "completed"
    },
    "tags": []
   },
   "outputs": [],
   "source": [
    "data['English'] = tok.texts_to_sequences(data['English'])\n",
    "data['Hindi'] = tok_hindi.texts_to_sequences(data['Hindi'])"
   ]
  },
  {
   "cell_type": "code",
   "execution_count": 37,
   "id": "61c88875",
   "metadata": {
    "execution": {
     "iopub.execute_input": "2024-09-19T09:25:56.241145Z",
     "iopub.status.busy": "2024-09-19T09:25:56.240406Z",
     "iopub.status.idle": "2024-09-19T09:25:56.259333Z",
     "shell.execute_reply": "2024-09-19T09:25:56.258331Z"
    },
    "papermill": {
     "duration": 0.054001,
     "end_time": "2024-09-19T09:25:56.261611",
     "exception": false,
     "start_time": "2024-09-19T09:25:56.207610",
     "status": "completed"
    },
    "tags": []
   },
   "outputs": [
    {
     "data": {
      "text/html": [
       "<div>\n",
       "<style scoped>\n",
       "    .dataframe tbody tr th:only-of-type {\n",
       "        vertical-align: middle;\n",
       "    }\n",
       "\n",
       "    .dataframe tbody tr th {\n",
       "        vertical-align: top;\n",
       "    }\n",
       "\n",
       "    .dataframe thead th {\n",
       "        text-align: right;\n",
       "    }\n",
       "</style>\n",
       "<table border=\"1\" class=\"dataframe\">\n",
       "  <thead>\n",
       "    <tr style=\"text-align: right;\">\n",
       "      <th></th>\n",
       "      <th>English</th>\n",
       "      <th>Hindi</th>\n",
       "    </tr>\n",
       "  </thead>\n",
       "  <tbody>\n",
       "    <tr>\n",
       "      <th>0</th>\n",
       "      <td>[148]</td>\n",
       "      <td>[1, 13034, 2]</td>\n",
       "    </tr>\n",
       "    <tr>\n",
       "      <th>1</th>\n",
       "      <td>[2853]</td>\n",
       "      <td>[1, 13035, 2]</td>\n",
       "    </tr>\n",
       "    <tr>\n",
       "      <th>2</th>\n",
       "      <td>[2853]</td>\n",
       "      <td>[1, 13036, 2]</td>\n",
       "    </tr>\n",
       "    <tr>\n",
       "      <th>3</th>\n",
       "      <td>[2853]</td>\n",
       "      <td>[1, 4577, 2]</td>\n",
       "    </tr>\n",
       "    <tr>\n",
       "      <th>4</th>\n",
       "      <td>[3819]</td>\n",
       "      <td>[1, 9695, 2]</td>\n",
       "    </tr>\n",
       "    <tr>\n",
       "      <th>...</th>\n",
       "      <td>...</td>\n",
       "      <td>...</td>\n",
       "    </tr>\n",
       "    <tr>\n",
       "      <th>130461</th>\n",
       "      <td>[62, 52, 9, 14, 6, 964, 157]</td>\n",
       "      <td>[1, 99, 49, 21, 11, 1833, 164, 9, 2]</td>\n",
       "    </tr>\n",
       "    <tr>\n",
       "      <th>130462</th>\n",
       "      <td>[1, 22869, 14, 10094, 27, 4615]</td>\n",
       "      <td>[1, 107, 2948, 9445, 17, 3284, 8, 3267, 45, 52...</td>\n",
       "    </tr>\n",
       "    <tr>\n",
       "      <th>130464</th>\n",
       "      <td>[5, 48, 13, 95, 10, 4, 253, 56, 459]</td>\n",
       "      <td>[1, 84, 22, 180, 9, 14, 13, 1285, 840, 2]</td>\n",
       "    </tr>\n",
       "    <tr>\n",
       "      <th>130466</th>\n",
       "      <td>[364, 46, 16, 212, 345]</td>\n",
       "      <td>[1, 1123, 36, 34, 1341, 15, 7, 16, 2]</td>\n",
       "    </tr>\n",
       "    <tr>\n",
       "      <th>130472</th>\n",
       "      <td>[2, 189, 12, 7, 56, 22870]</td>\n",
       "      <td>[1, 6, 41, 24779, 5, 1153, 439, 33, 2]</td>\n",
       "    </tr>\n",
       "  </tbody>\n",
       "</table>\n",
       "<p>50157 rows × 2 columns</p>\n",
       "</div>"
      ],
      "text/plain": [
       "                                     English  \\\n",
       "0                                      [148]   \n",
       "1                                     [2853]   \n",
       "2                                     [2853]   \n",
       "3                                     [2853]   \n",
       "4                                     [3819]   \n",
       "...                                      ...   \n",
       "130461          [62, 52, 9, 14, 6, 964, 157]   \n",
       "130462       [1, 22869, 14, 10094, 27, 4615]   \n",
       "130464  [5, 48, 13, 95, 10, 4, 253, 56, 459]   \n",
       "130466               [364, 46, 16, 212, 345]   \n",
       "130472            [2, 189, 12, 7, 56, 22870]   \n",
       "\n",
       "                                                    Hindi  \n",
       "0                                           [1, 13034, 2]  \n",
       "1                                           [1, 13035, 2]  \n",
       "2                                           [1, 13036, 2]  \n",
       "3                                            [1, 4577, 2]  \n",
       "4                                            [1, 9695, 2]  \n",
       "...                                                   ...  \n",
       "130461               [1, 99, 49, 21, 11, 1833, 164, 9, 2]  \n",
       "130462  [1, 107, 2948, 9445, 17, 3284, 8, 3267, 45, 52...  \n",
       "130464          [1, 84, 22, 180, 9, 14, 13, 1285, 840, 2]  \n",
       "130466              [1, 1123, 36, 34, 1341, 15, 7, 16, 2]  \n",
       "130472             [1, 6, 41, 24779, 5, 1153, 439, 33, 2]  \n",
       "\n",
       "[50157 rows x 2 columns]"
      ]
     },
     "execution_count": 37,
     "metadata": {},
     "output_type": "execute_result"
    }
   ],
   "source": [
    "data"
   ]
  },
  {
   "cell_type": "code",
   "execution_count": 38,
   "id": "4bce4c6f",
   "metadata": {
    "execution": {
     "iopub.execute_input": "2024-09-19T09:25:56.331925Z",
     "iopub.status.busy": "2024-09-19T09:25:56.331013Z",
     "iopub.status.idle": "2024-09-19T09:25:56.362186Z",
     "shell.execute_reply": "2024-09-19T09:25:56.361221Z"
    },
    "papermill": {
     "duration": 0.067945,
     "end_time": "2024-09-19T09:25:56.364344",
     "exception": false,
     "start_time": "2024-09-19T09:25:56.296399",
     "status": "completed"
    },
    "tags": []
   },
   "outputs": [
    {
     "data": {
      "text/plain": [
       "260"
      ]
     },
     "execution_count": 38,
     "metadata": {},
     "output_type": "execute_result"
    }
   ],
   "source": [
    "def calculate_max_sequence_length(eng,hindi):\n",
    "    max_length_combined = max(max(len(seq) for seq in eng), max(len(seq) for seq in hindi))\n",
    "\n",
    "    return max_length_combined\n",
    "\n",
    "max_length_combined = calculate_max_sequence_length(data['English'],data['Hindi'])\n",
    "max_length_combined"
   ]
  },
  {
   "cell_type": "code",
   "execution_count": 39,
   "id": "b93e54fe",
   "metadata": {
    "execution": {
     "iopub.execute_input": "2024-09-19T09:25:56.428707Z",
     "iopub.status.busy": "2024-09-19T09:25:56.428400Z",
     "iopub.status.idle": "2024-09-19T09:25:56.434267Z",
     "shell.execute_reply": "2024-09-19T09:25:56.433331Z"
    },
    "papermill": {
     "duration": 0.040429,
     "end_time": "2024-09-19T09:25:56.436295",
     "exception": false,
     "start_time": "2024-09-19T09:25:56.395866",
     "status": "completed"
    },
    "tags": []
   },
   "outputs": [
    {
     "name": "stdout",
     "output_type": "stream",
     "text": [
      "148 "
     ]
    }
   ],
   "source": [
    "for num in data['English'][0]:\n",
    "    print(num, end=' ')"
   ]
  },
  {
   "cell_type": "code",
   "execution_count": 40,
   "id": "28dffa20",
   "metadata": {
    "execution": {
     "iopub.execute_input": "2024-09-19T09:25:56.500282Z",
     "iopub.status.busy": "2024-09-19T09:25:56.499952Z",
     "iopub.status.idle": "2024-09-19T09:25:56.505046Z",
     "shell.execute_reply": "2024-09-19T09:25:56.504154Z"
    },
    "papermill": {
     "duration": 0.03918,
     "end_time": "2024-09-19T09:25:56.507256",
     "exception": false,
     "start_time": "2024-09-19T09:25:56.468076",
     "status": "completed"
    },
    "tags": []
   },
   "outputs": [
    {
     "name": "stdout",
     "output_type": "stream",
     "text": [
      "help "
     ]
    }
   ],
   "source": [
    "# Print corresponding words horizontally\n",
    "for num in data['English'][0]:\n",
    "    word = tok.index_word.get(num, 'UNK')  \n",
    "    print(word, end=' ')"
   ]
  },
  {
   "cell_type": "code",
   "execution_count": 41,
   "id": "a17e0021",
   "metadata": {
    "execution": {
     "iopub.execute_input": "2024-09-19T09:25:56.573294Z",
     "iopub.status.busy": "2024-09-19T09:25:56.572664Z",
     "iopub.status.idle": "2024-09-19T09:25:56.578314Z",
     "shell.execute_reply": "2024-09-19T09:25:56.577427Z"
    },
    "papermill": {
     "duration": 0.041381,
     "end_time": "2024-09-19T09:25:56.580693",
     "exception": false,
     "start_time": "2024-09-19T09:25:56.539312",
     "status": "completed"
    },
    "tags": []
   },
   "outputs": [
    {
     "name": "stdout",
     "output_type": "stream",
     "text": [
      "start बचाओ end "
     ]
    }
   ],
   "source": [
    "for num in data['Hindi'][0]:\n",
    "    word = tok_hindi.index_word.get(num)\n",
    "    print(word,end = \" \")"
   ]
  },
  {
   "cell_type": "markdown",
   "id": "1ff94c65",
   "metadata": {
    "papermill": {
     "duration": 0.031907,
     "end_time": "2024-09-19T09:25:56.644659",
     "exception": false,
     "start_time": "2024-09-19T09:25:56.612752",
     "status": "completed"
    },
    "tags": []
   },
   "source": [
    "<a id='4.11'></a>\n",
    "### **11. separating the data in dependent and independent**"
   ]
  },
  {
   "cell_type": "code",
   "execution_count": 42,
   "id": "9e5d8978",
   "metadata": {
    "execution": {
     "iopub.execute_input": "2024-09-19T09:25:56.710880Z",
     "iopub.status.busy": "2024-09-19T09:25:56.710507Z",
     "iopub.status.idle": "2024-09-19T09:25:56.715069Z",
     "shell.execute_reply": "2024-09-19T09:25:56.714158Z"
    },
    "papermill": {
     "duration": 0.040597,
     "end_time": "2024-09-19T09:25:56.717219",
     "exception": false,
     "start_time": "2024-09-19T09:25:56.676622",
     "status": "completed"
    },
    "tags": []
   },
   "outputs": [],
   "source": [
    "hindi = data['Hindi']\n",
    "english = data['English']"
   ]
  },
  {
   "cell_type": "markdown",
   "id": "93678930",
   "metadata": {
    "papermill": {
     "duration": 0.032287,
     "end_time": "2024-09-19T09:25:56.782862",
     "exception": false,
     "start_time": "2024-09-19T09:25:56.750575",
     "status": "completed"
    },
    "tags": []
   },
   "source": [
    "<a id='4.12'></a>\n",
    "### **12. Padding**"
   ]
  },
  {
   "cell_type": "code",
   "execution_count": 43,
   "id": "76b5473a",
   "metadata": {
    "execution": {
     "iopub.execute_input": "2024-09-19T09:25:56.852814Z",
     "iopub.status.busy": "2024-09-19T09:25:56.851913Z",
     "iopub.status.idle": "2024-09-19T09:25:57.327852Z",
     "shell.execute_reply": "2024-09-19T09:25:57.326998Z"
    },
    "papermill": {
     "duration": 0.514189,
     "end_time": "2024-09-19T09:25:57.330414",
     "exception": false,
     "start_time": "2024-09-19T09:25:56.816225",
     "status": "completed"
    },
    "tags": []
   },
   "outputs": [],
   "source": [
    "x = pad_sequences(english,maxlen = max_length_combined,padding = 'post')\n",
    "y = pad_sequences(hindi,maxlen = max_length_combined,padding = 'post')"
   ]
  },
  {
   "cell_type": "code",
   "execution_count": 44,
   "id": "2d98fbeb",
   "metadata": {
    "execution": {
     "iopub.execute_input": "2024-09-19T09:25:57.400100Z",
     "iopub.status.busy": "2024-09-19T09:25:57.399390Z",
     "iopub.status.idle": "2024-09-19T09:25:57.405682Z",
     "shell.execute_reply": "2024-09-19T09:25:57.404730Z"
    },
    "papermill": {
     "duration": 0.042054,
     "end_time": "2024-09-19T09:25:57.408137",
     "exception": false,
     "start_time": "2024-09-19T09:25:57.366083",
     "status": "completed"
    },
    "tags": []
   },
   "outputs": [
    {
     "data": {
      "text/plain": [
       "array([[ 148,    0,    0, ...,    0,    0,    0],\n",
       "       [2853,    0,    0, ...,    0,    0,    0],\n",
       "       [2853,    0,    0, ...,    0,    0,    0],\n",
       "       ...,\n",
       "       [   5,   48,   13, ...,    0,    0,    0],\n",
       "       [ 364,   46,   16, ...,    0,    0,    0],\n",
       "       [   2,  189,   12, ...,    0,    0,    0]], dtype=int32)"
      ]
     },
     "execution_count": 44,
     "metadata": {},
     "output_type": "execute_result"
    }
   ],
   "source": [
    "x"
   ]
  },
  {
   "cell_type": "code",
   "execution_count": 45,
   "id": "c5953936",
   "metadata": {
    "execution": {
     "iopub.execute_input": "2024-09-19T09:25:57.478799Z",
     "iopub.status.busy": "2024-09-19T09:25:57.478500Z",
     "iopub.status.idle": "2024-09-19T09:25:57.485199Z",
     "shell.execute_reply": "2024-09-19T09:25:57.484328Z"
    },
    "papermill": {
     "duration": 0.043991,
     "end_time": "2024-09-19T09:25:57.487547",
     "exception": false,
     "start_time": "2024-09-19T09:25:57.443556",
     "status": "completed"
    },
    "tags": []
   },
   "outputs": [
    {
     "data": {
      "text/plain": [
       "array([[    1, 13034,     2, ...,     0,     0,     0],\n",
       "       [    1, 13035,     2, ...,     0,     0,     0],\n",
       "       [    1, 13036,     2, ...,     0,     0,     0],\n",
       "       ...,\n",
       "       [    1,    84,    22, ...,     0,     0,     0],\n",
       "       [    1,  1123,    36, ...,     0,     0,     0],\n",
       "       [    1,     6,    41, ...,     0,     0,     0]], dtype=int32)"
      ]
     },
     "execution_count": 45,
     "metadata": {},
     "output_type": "execute_result"
    }
   ],
   "source": [
    "y"
   ]
  },
  {
   "cell_type": "markdown",
   "id": "afe78e39",
   "metadata": {
    "execution": {
     "iopub.execute_input": "2024-07-08T06:49:45.810260Z",
     "iopub.status.busy": "2024-07-08T06:49:45.809649Z",
     "iopub.status.idle": "2024-07-08T06:49:45.820790Z",
     "shell.execute_reply": "2024-07-08T06:49:45.818713Z",
     "shell.execute_reply.started": "2024-07-08T06:49:45.810223Z"
    },
    "papermill": {
     "duration": 0.033717,
     "end_time": "2024-09-19T09:25:57.555145",
     "exception": false,
     "start_time": "2024-09-19T09:25:57.521428",
     "status": "completed"
    },
    "tags": []
   },
   "source": [
    "<a id='4.13'></a>\n",
    "### **13. splitting in train test and val**"
   ]
  },
  {
   "cell_type": "code",
   "execution_count": 46,
   "id": "9c72a418",
   "metadata": {
    "execution": {
     "iopub.execute_input": "2024-09-19T09:25:57.622788Z",
     "iopub.status.busy": "2024-09-19T09:25:57.622235Z",
     "iopub.status.idle": "2024-09-19T09:25:57.667598Z",
     "shell.execute_reply": "2024-09-19T09:25:57.666512Z"
    },
    "papermill": {
     "duration": 0.081137,
     "end_time": "2024-09-19T09:25:57.669915",
     "exception": false,
     "start_time": "2024-09-19T09:25:57.588778",
     "status": "completed"
    },
    "tags": []
   },
   "outputs": [],
   "source": [
    "x_train,x_test,y_train,y_test = train_test_split(x,y,test_size=0.2,random_state=42)"
   ]
  },
  {
   "cell_type": "code",
   "execution_count": 47,
   "id": "a0855161",
   "metadata": {
    "execution": {
     "iopub.execute_input": "2024-09-19T09:25:57.735738Z",
     "iopub.status.busy": "2024-09-19T09:25:57.735061Z",
     "iopub.status.idle": "2024-09-19T09:25:57.740595Z",
     "shell.execute_reply": "2024-09-19T09:25:57.739717Z"
    },
    "papermill": {
     "duration": 0.040734,
     "end_time": "2024-09-19T09:25:57.742616",
     "exception": false,
     "start_time": "2024-09-19T09:25:57.701882",
     "status": "completed"
    },
    "tags": []
   },
   "outputs": [
    {
     "name": "stdout",
     "output_type": "stream",
     "text": [
      "Shape of x_train: (40125, 260)\n",
      "Shape of x_test: (10032, 260)\n",
      "Shape of y_train: (40125, 260)\n",
      "Shape of y_test: (10032, 260)\n"
     ]
    }
   ],
   "source": [
    "# Check the shape of the resulting arrays\n",
    "print(\"Shape of x_train:\", x_train.shape)\n",
    "print(\"Shape of x_test:\", x_test.shape)\n",
    "print(\"Shape of y_train:\", y_train.shape)\n",
    "print(\"Shape of y_test:\", y_test.shape)"
   ]
  },
  {
   "cell_type": "markdown",
   "id": "9cfe22d5",
   "metadata": {
    "papermill": {
     "duration": 0.032356,
     "end_time": "2024-09-19T09:25:57.807258",
     "exception": false,
     "start_time": "2024-09-19T09:25:57.774902",
     "status": "completed"
    },
    "tags": []
   },
   "source": [
    "<center><div style='color:#ffffff;\n",
    "           display:inline-block;\n",
    "           padding: 5px 5px 5px 5px;\n",
    "           border-radius:5px;\n",
    "           background-color:#78D1E1;\n",
    "           font-size:100%;'><a href=#toc style='text-decoration: none; color:#03001C;'>⬆️ Back To Top</a></div></center>\n",
    "\n",
    "<a id='5'></a>\n",
    "# 5 | Modelling\n",
    "\n",
    "<div style=\"padding: 4px;color:white;margin:10;font-size:200%;text-align:center;display:fill;border-radius:10px;overflow:hidden;background-image: url(https://i.postimg.cc/fTDmwnkQ/Miaka.png); background-size: 100% auto;\"></div>\n"
   ]
  },
  {
   "cell_type": "markdown",
   "id": "e88c6cf2",
   "metadata": {
    "execution": {
     "iopub.execute_input": "2024-07-12T06:02:20.302442Z",
     "iopub.status.busy": "2024-07-12T06:02:20.301957Z",
     "iopub.status.idle": "2024-07-12T06:02:20.309605Z",
     "shell.execute_reply": "2024-07-12T06:02:20.308069Z",
     "shell.execute_reply.started": "2024-07-12T06:02:20.302394Z"
    },
    "papermill": {
     "duration": 0.031982,
     "end_time": "2024-09-19T09:25:57.872464",
     "exception": false,
     "start_time": "2024-09-19T09:25:57.840482",
     "status": "completed"
    },
    "tags": []
   },
   "source": [
    "<a id='5.1'></a>\n",
    "### **5.1. ENCODER-DECODER MODEL**"
   ]
  },
  {
   "cell_type": "code",
   "execution_count": 48,
   "id": "6ffc73d2",
   "metadata": {
    "execution": {
     "iopub.execute_input": "2024-09-19T09:25:57.937212Z",
     "iopub.status.busy": "2024-09-19T09:25:57.936349Z",
     "iopub.status.idle": "2024-09-19T09:25:59.271843Z",
     "shell.execute_reply": "2024-09-19T09:25:59.270987Z"
    },
    "papermill": {
     "duration": 1.370036,
     "end_time": "2024-09-19T09:25:59.274015",
     "exception": false,
     "start_time": "2024-09-19T09:25:57.903979",
     "status": "completed"
    },
    "tags": []
   },
   "outputs": [
    {
     "data": {
      "text/html": [
       "<pre style=\"white-space:pre;overflow-x:auto;line-height:normal;font-family:Menlo,'DejaVu Sans Mono',consolas,'Courier New',monospace\"><span style=\"font-weight: bold\">Model: \"functional_1\"</span>\n",
       "</pre>\n"
      ],
      "text/plain": [
       "\u001b[1mModel: \"functional_1\"\u001b[0m\n"
      ]
     },
     "metadata": {},
     "output_type": "display_data"
    },
    {
     "data": {
      "text/html": [
       "<pre style=\"white-space:pre;overflow-x:auto;line-height:normal;font-family:Menlo,'DejaVu Sans Mono',consolas,'Courier New',monospace\">┏━━━━━━━━━━━━━━━━━━━━━┳━━━━━━━━━━━━━━━━━━━┳━━━━━━━━━━━━┳━━━━━━━━━━━━━━━━━━━┓\n",
       "┃<span style=\"font-weight: bold\"> Layer (type)        </span>┃<span style=\"font-weight: bold\"> Output Shape      </span>┃<span style=\"font-weight: bold\">    Param # </span>┃<span style=\"font-weight: bold\"> Connected to      </span>┃\n",
       "┡━━━━━━━━━━━━━━━━━━━━━╇━━━━━━━━━━━━━━━━━━━╇━━━━━━━━━━━━╇━━━━━━━━━━━━━━━━━━━┩\n",
       "│ input_layer         │ (<span style=\"color: #00d7ff; text-decoration-color: #00d7ff\">None</span>, <span style=\"color: #00af00; text-decoration-color: #00af00\">260</span>)       │          <span style=\"color: #00af00; text-decoration-color: #00af00\">0</span> │ -                 │\n",
       "│ (<span style=\"color: #0087ff; text-decoration-color: #0087ff\">InputLayer</span>)        │                   │            │                   │\n",
       "├─────────────────────┼───────────────────┼────────────┼───────────────────┤\n",
       "│ input_layer_1       │ (<span style=\"color: #00d7ff; text-decoration-color: #00d7ff\">None</span>, <span style=\"color: #00af00; text-decoration-color: #00af00\">260</span>)       │          <span style=\"color: #00af00; text-decoration-color: #00af00\">0</span> │ -                 │\n",
       "│ (<span style=\"color: #0087ff; text-decoration-color: #0087ff\">InputLayer</span>)        │                   │            │                   │\n",
       "├─────────────────────┼───────────────────┼────────────┼───────────────────┤\n",
       "│ embedding           │ (<span style=\"color: #00d7ff; text-decoration-color: #00d7ff\">None</span>, <span style=\"color: #00af00; text-decoration-color: #00af00\">260</span>, <span style=\"color: #00af00; text-decoration-color: #00af00\">260</span>)  │  <span style=\"color: #00af00; text-decoration-color: #00af00\">5,946,460</span> │ input_layer[<span style=\"color: #00af00; text-decoration-color: #00af00\">0</span>][<span style=\"color: #00af00; text-decoration-color: #00af00\">0</span>] │\n",
       "│ (<span style=\"color: #0087ff; text-decoration-color: #0087ff\">Embedding</span>)         │                   │            │                   │\n",
       "├─────────────────────┼───────────────────┼────────────┼───────────────────┤\n",
       "│ embedding_1         │ (<span style=\"color: #00d7ff; text-decoration-color: #00d7ff\">None</span>, <span style=\"color: #00af00; text-decoration-color: #00af00\">260</span>, <span style=\"color: #00af00; text-decoration-color: #00af00\">260</span>)  │  <span style=\"color: #00af00; text-decoration-color: #00af00\">6,442,800</span> │ input_layer_1[<span style=\"color: #00af00; text-decoration-color: #00af00\">0</span>]… │\n",
       "│ (<span style=\"color: #0087ff; text-decoration-color: #0087ff\">Embedding</span>)         │                   │            │                   │\n",
       "├─────────────────────┼───────────────────┼────────────┼───────────────────┤\n",
       "│ lstm (<span style=\"color: #0087ff; text-decoration-color: #0087ff\">LSTM</span>)         │ [(<span style=\"color: #00d7ff; text-decoration-color: #00d7ff\">None</span>, <span style=\"color: #00af00; text-decoration-color: #00af00\">156</span>),     │    <span style=\"color: #00af00; text-decoration-color: #00af00\">260,208</span> │ embedding[<span style=\"color: #00af00; text-decoration-color: #00af00\">0</span>][<span style=\"color: #00af00; text-decoration-color: #00af00\">0</span>]   │\n",
       "│                     │ (<span style=\"color: #00d7ff; text-decoration-color: #00d7ff\">None</span>, <span style=\"color: #00af00; text-decoration-color: #00af00\">156</span>),      │            │                   │\n",
       "│                     │ (<span style=\"color: #00d7ff; text-decoration-color: #00d7ff\">None</span>, <span style=\"color: #00af00; text-decoration-color: #00af00\">156</span>)]      │            │                   │\n",
       "├─────────────────────┼───────────────────┼────────────┼───────────────────┤\n",
       "│ lstm_1 (<span style=\"color: #0087ff; text-decoration-color: #0087ff\">LSTM</span>)       │ [(<span style=\"color: #00d7ff; text-decoration-color: #00d7ff\">None</span>, <span style=\"color: #00af00; text-decoration-color: #00af00\">260</span>,      │    <span style=\"color: #00af00; text-decoration-color: #00af00\">260,208</span> │ embedding_1[<span style=\"color: #00af00; text-decoration-color: #00af00\">0</span>][<span style=\"color: #00af00; text-decoration-color: #00af00\">0</span>… │\n",
       "│                     │ <span style=\"color: #00af00; text-decoration-color: #00af00\">156</span>), (<span style=\"color: #00d7ff; text-decoration-color: #00d7ff\">None</span>,      │            │ lstm[<span style=\"color: #00af00; text-decoration-color: #00af00\">0</span>][<span style=\"color: #00af00; text-decoration-color: #00af00\">1</span>],       │\n",
       "│                     │ <span style=\"color: #00af00; text-decoration-color: #00af00\">156</span>), (<span style=\"color: #00d7ff; text-decoration-color: #00d7ff\">None</span>,      │            │ lstm[<span style=\"color: #00af00; text-decoration-color: #00af00\">0</span>][<span style=\"color: #00af00; text-decoration-color: #00af00\">2</span>]        │\n",
       "│                     │ <span style=\"color: #00af00; text-decoration-color: #00af00\">156</span>)]             │            │                   │\n",
       "├─────────────────────┼───────────────────┼────────────┼───────────────────┤\n",
       "│ dense (<span style=\"color: #0087ff; text-decoration-color: #0087ff\">Dense</span>)       │ (<span style=\"color: #00d7ff; text-decoration-color: #00d7ff\">None</span>, <span style=\"color: #00af00; text-decoration-color: #00af00\">260</span>,       │  <span style=\"color: #00af00; text-decoration-color: #00af00\">3,890,460</span> │ lstm_1[<span style=\"color: #00af00; text-decoration-color: #00af00\">0</span>][<span style=\"color: #00af00; text-decoration-color: #00af00\">0</span>]      │\n",
       "│                     │ <span style=\"color: #00af00; text-decoration-color: #00af00\">24780</span>)            │            │                   │\n",
       "└─────────────────────┴───────────────────┴────────────┴───────────────────┘\n",
       "</pre>\n"
      ],
      "text/plain": [
       "┏━━━━━━━━━━━━━━━━━━━━━┳━━━━━━━━━━━━━━━━━━━┳━━━━━━━━━━━━┳━━━━━━━━━━━━━━━━━━━┓\n",
       "┃\u001b[1m \u001b[0m\u001b[1mLayer (type)       \u001b[0m\u001b[1m \u001b[0m┃\u001b[1m \u001b[0m\u001b[1mOutput Shape     \u001b[0m\u001b[1m \u001b[0m┃\u001b[1m \u001b[0m\u001b[1m   Param #\u001b[0m\u001b[1m \u001b[0m┃\u001b[1m \u001b[0m\u001b[1mConnected to     \u001b[0m\u001b[1m \u001b[0m┃\n",
       "┡━━━━━━━━━━━━━━━━━━━━━╇━━━━━━━━━━━━━━━━━━━╇━━━━━━━━━━━━╇━━━━━━━━━━━━━━━━━━━┩\n",
       "│ input_layer         │ (\u001b[38;5;45mNone\u001b[0m, \u001b[38;5;34m260\u001b[0m)       │          \u001b[38;5;34m0\u001b[0m │ -                 │\n",
       "│ (\u001b[38;5;33mInputLayer\u001b[0m)        │                   │            │                   │\n",
       "├─────────────────────┼───────────────────┼────────────┼───────────────────┤\n",
       "│ input_layer_1       │ (\u001b[38;5;45mNone\u001b[0m, \u001b[38;5;34m260\u001b[0m)       │          \u001b[38;5;34m0\u001b[0m │ -                 │\n",
       "│ (\u001b[38;5;33mInputLayer\u001b[0m)        │                   │            │                   │\n",
       "├─────────────────────┼───────────────────┼────────────┼───────────────────┤\n",
       "│ embedding           │ (\u001b[38;5;45mNone\u001b[0m, \u001b[38;5;34m260\u001b[0m, \u001b[38;5;34m260\u001b[0m)  │  \u001b[38;5;34m5,946,460\u001b[0m │ input_layer[\u001b[38;5;34m0\u001b[0m][\u001b[38;5;34m0\u001b[0m] │\n",
       "│ (\u001b[38;5;33mEmbedding\u001b[0m)         │                   │            │                   │\n",
       "├─────────────────────┼───────────────────┼────────────┼───────────────────┤\n",
       "│ embedding_1         │ (\u001b[38;5;45mNone\u001b[0m, \u001b[38;5;34m260\u001b[0m, \u001b[38;5;34m260\u001b[0m)  │  \u001b[38;5;34m6,442,800\u001b[0m │ input_layer_1[\u001b[38;5;34m0\u001b[0m]… │\n",
       "│ (\u001b[38;5;33mEmbedding\u001b[0m)         │                   │            │                   │\n",
       "├─────────────────────┼───────────────────┼────────────┼───────────────────┤\n",
       "│ lstm (\u001b[38;5;33mLSTM\u001b[0m)         │ [(\u001b[38;5;45mNone\u001b[0m, \u001b[38;5;34m156\u001b[0m),     │    \u001b[38;5;34m260,208\u001b[0m │ embedding[\u001b[38;5;34m0\u001b[0m][\u001b[38;5;34m0\u001b[0m]   │\n",
       "│                     │ (\u001b[38;5;45mNone\u001b[0m, \u001b[38;5;34m156\u001b[0m),      │            │                   │\n",
       "│                     │ (\u001b[38;5;45mNone\u001b[0m, \u001b[38;5;34m156\u001b[0m)]      │            │                   │\n",
       "├─────────────────────┼───────────────────┼────────────┼───────────────────┤\n",
       "│ lstm_1 (\u001b[38;5;33mLSTM\u001b[0m)       │ [(\u001b[38;5;45mNone\u001b[0m, \u001b[38;5;34m260\u001b[0m,      │    \u001b[38;5;34m260,208\u001b[0m │ embedding_1[\u001b[38;5;34m0\u001b[0m][\u001b[38;5;34m0\u001b[0m… │\n",
       "│                     │ \u001b[38;5;34m156\u001b[0m), (\u001b[38;5;45mNone\u001b[0m,      │            │ lstm[\u001b[38;5;34m0\u001b[0m][\u001b[38;5;34m1\u001b[0m],       │\n",
       "│                     │ \u001b[38;5;34m156\u001b[0m), (\u001b[38;5;45mNone\u001b[0m,      │            │ lstm[\u001b[38;5;34m0\u001b[0m][\u001b[38;5;34m2\u001b[0m]        │\n",
       "│                     │ \u001b[38;5;34m156\u001b[0m)]             │            │                   │\n",
       "├─────────────────────┼───────────────────┼────────────┼───────────────────┤\n",
       "│ dense (\u001b[38;5;33mDense\u001b[0m)       │ (\u001b[38;5;45mNone\u001b[0m, \u001b[38;5;34m260\u001b[0m,       │  \u001b[38;5;34m3,890,460\u001b[0m │ lstm_1[\u001b[38;5;34m0\u001b[0m][\u001b[38;5;34m0\u001b[0m]      │\n",
       "│                     │ \u001b[38;5;34m24780\u001b[0m)            │            │                   │\n",
       "└─────────────────────┴───────────────────┴────────────┴───────────────────┘\n"
      ]
     },
     "metadata": {},
     "output_type": "display_data"
    },
    {
     "data": {
      "text/html": [
       "<pre style=\"white-space:pre;overflow-x:auto;line-height:normal;font-family:Menlo,'DejaVu Sans Mono',consolas,'Courier New',monospace\"><span style=\"font-weight: bold\"> Total params: </span><span style=\"color: #00af00; text-decoration-color: #00af00\">16,800,136</span> (64.09 MB)\n",
       "</pre>\n"
      ],
      "text/plain": [
       "\u001b[1m Total params: \u001b[0m\u001b[38;5;34m16,800,136\u001b[0m (64.09 MB)\n"
      ]
     },
     "metadata": {},
     "output_type": "display_data"
    },
    {
     "data": {
      "text/html": [
       "<pre style=\"white-space:pre;overflow-x:auto;line-height:normal;font-family:Menlo,'DejaVu Sans Mono',consolas,'Courier New',monospace\"><span style=\"font-weight: bold\"> Trainable params: </span><span style=\"color: #00af00; text-decoration-color: #00af00\">16,800,136</span> (64.09 MB)\n",
       "</pre>\n"
      ],
      "text/plain": [
       "\u001b[1m Trainable params: \u001b[0m\u001b[38;5;34m16,800,136\u001b[0m (64.09 MB)\n"
      ]
     },
     "metadata": {},
     "output_type": "display_data"
    },
    {
     "data": {
      "text/html": [
       "<pre style=\"white-space:pre;overflow-x:auto;line-height:normal;font-family:Menlo,'DejaVu Sans Mono',consolas,'Courier New',monospace\"><span style=\"font-weight: bold\"> Non-trainable params: </span><span style=\"color: #00af00; text-decoration-color: #00af00\">0</span> (0.00 B)\n",
       "</pre>\n"
      ],
      "text/plain": [
       "\u001b[1m Non-trainable params: \u001b[0m\u001b[38;5;34m0\u001b[0m (0.00 B)\n"
      ]
     },
     "metadata": {},
     "output_type": "display_data"
    }
   ],
   "source": [
    "max_length_input = x_train.shape[1]\n",
    "max_length_output = y_train.shape[1]\n",
    "input_vocab_size = len(tok.word_index) + 1\n",
    "output_vocab_size = len(tok_hindi.word_index) + 1\n",
    "\n",
    "# Define Encoder model\n",
    "encoder_inputs = Input(shape=(max_length_input,))\n",
    "encoder_embedding = Embedding(input_dim=input_vocab_size, output_dim=260)(encoder_inputs)\n",
    "encoder_lstm = LSTM(156, return_state=True)\n",
    "encoder_outputs, state_h, state_c = encoder_lstm(encoder_embedding)\n",
    "encoder_states = [state_h, state_c]\n",
    "\n",
    "# Define Decoder model\n",
    "decoder_inputs = Input(shape=(max_length_output,))\n",
    "decoder_embedding = Embedding(input_dim=output_vocab_size, output_dim=260)(decoder_inputs)\n",
    "decoder_lstm = LSTM(156, return_sequences=True, return_state=True)\n",
    "decoder_outputs, _, _ = decoder_lstm(decoder_embedding, initial_state=encoder_states)\n",
    "decoder_dense = Dense(output_vocab_size, activation='softmax')\n",
    "decoder_outputs = decoder_dense(decoder_outputs)\n",
    "\n",
    "# Define the full Encoder-Decoder model\n",
    "model = Model([encoder_inputs, decoder_inputs], decoder_outputs)\n",
    "\n",
    "# Compile the model\n",
    "model.compile(optimizer='adam', loss='sparse_categorical_crossentropy', metrics=['accuracy'])\n",
    "\n",
    "# Print model summary\n",
    "model.summary()"
   ]
  },
  {
   "cell_type": "code",
   "execution_count": 49,
   "id": "95d9b265",
   "metadata": {
    "execution": {
     "iopub.execute_input": "2024-09-19T09:25:59.349384Z",
     "iopub.status.busy": "2024-09-19T09:25:59.348703Z",
     "iopub.status.idle": "2024-09-19T09:52:43.026179Z",
     "shell.execute_reply": "2024-09-19T09:52:43.025046Z"
    },
    "papermill": {
     "duration": 1604.25266,
     "end_time": "2024-09-19T09:52:43.562140",
     "exception": false,
     "start_time": "2024-09-19T09:25:59.309480",
     "status": "completed"
    },
    "tags": []
   },
   "outputs": [
    {
     "name": "stdout",
     "output_type": "stream",
     "text": [
      "Epoch 1/5\n",
      "\u001b[1m1254/1254\u001b[0m \u001b[32m━━━━━━━━━━━━━━━━━━━━\u001b[0m\u001b[37m\u001b[0m \u001b[1m318s\u001b[0m 250ms/step - accuracy: 0.9662 - loss: 0.9096 - val_accuracy: 0.9836 - val_loss: 0.1339\n",
      "Epoch 2/5\n",
      "\u001b[1m1254/1254\u001b[0m \u001b[32m━━━━━━━━━━━━━━━━━━━━\u001b[0m\u001b[37m\u001b[0m \u001b[1m321s\u001b[0m 256ms/step - accuracy: 0.9852 - loss: 0.1210 - val_accuracy: 0.9894 - val_loss: 0.0916\n",
      "Epoch 3/5\n",
      "\u001b[1m1254/1254\u001b[0m \u001b[32m━━━━━━━━━━━━━━━━━━━━\u001b[0m\u001b[37m\u001b[0m \u001b[1m321s\u001b[0m 256ms/step - accuracy: 0.9904 - loss: 0.0827 - val_accuracy: 0.9929 - val_loss: 0.0660\n",
      "Epoch 4/5\n",
      "\u001b[1m1254/1254\u001b[0m \u001b[32m━━━━━━━━━━━━━━━━━━━━\u001b[0m\u001b[37m\u001b[0m \u001b[1m321s\u001b[0m 255ms/step - accuracy: 0.9934 - loss: 0.0586 - val_accuracy: 0.9947 - val_loss: 0.0495\n",
      "Epoch 5/5\n",
      "\u001b[1m1254/1254\u001b[0m \u001b[32m━━━━━━━━━━━━━━━━━━━━\u001b[0m\u001b[37m\u001b[0m \u001b[1m322s\u001b[0m 256ms/step - accuracy: 0.9951 - loss: 0.0433 - val_accuracy: 0.9959 - val_loss: 0.0390\n"
     ]
    }
   ],
   "source": [
    "from tensorflow.keras.callbacks import EarlyStopping, ModelCheckpoint\n",
    "\n",
    "early_stopping = EarlyStopping(monitor='val_loss', patience=3, restore_best_weights=True)\n",
    "model_checkpoint = ModelCheckpoint('model_checkpoint.keras', save_best_only=True)  # Updated filepath\n",
    "\n",
    "# Train the model with callbacks\n",
    "history = model.fit(\n",
    "    x=[x_train, y_train],# Exclude last token from decoder input\n",
    "    y=y_train,   # Exclude first token from decoder target\n",
    "    batch_size=32,\n",
    "    epochs=5,\n",
    "    validation_data=([x_test, y_test], y_test),\n",
    "    callbacks=[early_stopping, model_checkpoint],  \n",
    ")"
   ]
  },
  {
   "cell_type": "markdown",
   "id": "cb60a4ce",
   "metadata": {
    "papermill": {
     "duration": 0.590122,
     "end_time": "2024-09-19T09:52:44.773945",
     "exception": false,
     "start_time": "2024-09-19T09:52:44.183823",
     "status": "completed"
    },
    "tags": []
   },
   "source": [
    "<a id='5.2'></a>\n",
    "### **5.2. ENCODER-DECODER MODEL EVALUATION**"
   ]
  },
  {
   "cell_type": "code",
   "execution_count": 50,
   "id": "d30f751c",
   "metadata": {
    "execution": {
     "iopub.execute_input": "2024-09-19T09:52:45.975679Z",
     "iopub.status.busy": "2024-09-19T09:52:45.975312Z",
     "iopub.status.idle": "2024-09-19T09:52:46.347460Z",
     "shell.execute_reply": "2024-09-19T09:52:46.346426Z"
    },
    "papermill": {
     "duration": 0.954613,
     "end_time": "2024-09-19T09:52:46.350041",
     "exception": false,
     "start_time": "2024-09-19T09:52:45.395428",
     "status": "completed"
    },
    "tags": []
   },
   "outputs": [
    {
     "data": {
      "image/png": "[encoded data removed]",
      "text/plain": [
       "<Figure size 640x480 with 1 Axes>"
      ]
     },
     "metadata": {},
     "output_type": "display_data"
    }
   ],
   "source": [
    "plt.plot(history.history['accuracy'],color = 'blue',label = 'accuracy')\n",
    "plt.plot(history.history['val_accuracy'],color = 'red',label = 'val_accuracy')\n",
    "plt.title(\"Training And Validation Accuracy Score\")\n",
    "plt.xlabel(\"accuracy\")\n",
    "plt.ylabel(\"epochs\")\n",
    "plt.grid()\n",
    "plt.legend()\n",
    "plt.show()"
   ]
  },
  {
   "cell_type": "code",
   "execution_count": 51,
   "id": "c4fd8180",
   "metadata": {
    "execution": {
     "iopub.execute_input": "2024-09-19T09:52:47.585063Z",
     "iopub.status.busy": "2024-09-19T09:52:47.584596Z",
     "iopub.status.idle": "2024-09-19T09:52:47.947686Z",
     "shell.execute_reply": "2024-09-19T09:52:47.946611Z"
    },
    "papermill": {
     "duration": 0.97643,
     "end_time": "2024-09-19T09:52:47.949885",
     "exception": false,
     "start_time": "2024-09-19T09:52:46.973455",
     "status": "completed"
    },
    "tags": []
   },
   "outputs": [
    {
     "data": {
      "image/png": "[encoded data removed]",
      "text/plain": [
       "<Figure size 640x480 with 1 Axes>"
      ]
     },
     "metadata": {},
     "output_type": "display_data"
    }
   ],
   "source": [
    "plt.plot(history.history['loss'],color = 'blue',label = 'loss')\n",
    "plt.plot(history.history['val_loss'],color = 'red',label = 'val_loss')\n",
    "plt.title(\"Training And Validation Loss Score\")\n",
    "plt.xlabel(\"loss\")\n",
    "plt.ylabel(\"epochs\")\n",
    "plt.grid()\n",
    "plt.legend()\n",
    "plt.show()"
   ]
  },
  {
   "cell_type": "markdown",
   "id": "d0a51d1c",
   "metadata": {
    "execution": {
     "iopub.execute_input": "2024-07-17T17:03:22.474977Z",
     "iopub.status.busy": "2024-07-17T17:03:22.474535Z",
     "iopub.status.idle": "2024-07-17T17:03:22.479319Z",
     "shell.execute_reply": "2024-07-17T17:03:22.478452Z",
     "shell.execute_reply.started": "2024-07-17T17:03:22.474942Z"
    },
    "papermill": {
     "duration": 0.548188,
     "end_time": "2024-09-19T09:52:49.064325",
     "exception": false,
     "start_time": "2024-09-19T09:52:48.516137",
     "status": "completed"
    },
    "tags": []
   },
   "source": [
    "<a id='5.3'></a>\n",
    "### **5.3. PREDICTION FROM ENCODER-DECODER MODEL**"
   ]
  },
  {
   "cell_type": "code",
   "execution_count": 52,
   "id": "e2524d7c",
   "metadata": {
    "execution": {
     "iopub.execute_input": "2024-09-19T09:52:50.217784Z",
     "iopub.status.busy": "2024-09-19T09:52:50.217412Z",
     "iopub.status.idle": "2024-09-19T09:52:50.860024Z",
     "shell.execute_reply": "2024-09-19T09:52:50.858915Z"
    },
    "papermill": {
     "duration": 1.195378,
     "end_time": "2024-09-19T09:52:50.862312",
     "exception": false,
     "start_time": "2024-09-19T09:52:49.666934",
     "status": "completed"
    },
    "tags": []
   },
   "outputs": [
    {
     "name": "stdout",
     "output_type": "stream",
     "text": [
      "\u001b[1m1/1\u001b[0m \u001b[32m━━━━━━━━━━━━━━━━━━━━\u001b[0m\u001b[37m\u001b[0m \u001b[1m0s\u001b[0m 207ms/step\n",
      "Shape of predictions: (10, 260, 24780)\n",
      "Shape of predicted_tokens: (10, 260)\n",
      "English sentence 1: sanskrit is the mother of all indian languages\n",
      "Predicted Hindi translation 1: संस्कृत सभी भारतीय भाषाओं की माता है।\n",
      "\n",
      "English sentence 2: so essentially it knows where to go\n",
      "Predicted Hindi translation 2: तो अनिवार्य रूप से यह जानता है कहाँ जाना है\n",
      "\n",
      "English sentence 3: i lost my best friend to a car accident\n",
      "Predicted Hindi translation 3: तब मैंने अपने सबसे अच्छे मित्र को सड़क दुर्घटना में खो दिया\n",
      "\n",
      "English sentence 4: clinics are listed in telephone directories\n",
      "Predicted Hindi translation 4: इन की सूची में मिल जाएगी\n",
      "\n",
      "English sentence 5: i do not think in language\n",
      "Predicted Hindi translation 5: मै भाषा मे नही सोचती\n",
      "\n",
      "English sentence 6: and some of the stuff you saw there\n",
      "Predicted Hindi translation 6: और उसका एक हिस्सा आपने अभी देखा।\n",
      "\n",
      "English sentence 7: 10 in a row you move on\n",
      "Predicted Hindi translation 7: जब सवाल सही हो जाये आगे\n",
      "\n",
      "English sentence 8: the system also recognizes iconic gestures\n",
      "Predicted Hindi translation 8: यह प्रणाली से को भी है\n",
      "\n",
      "English sentence 9: but nasa is developing the space liner always has\n",
      "Predicted Hindi translation 9: पर नासा अंतरिक्ष जालपृष्ठ बना रही है हमेशा से बनाती आई है\n",
      "\n",
      "English sentence 10: its foreign policies\n",
      "Predicted Hindi translation 10: अपनी विदेश डी से\n",
      "\n"
     ]
    }
   ],
   "source": [
    "import numpy as np\n",
    "import os\n",
    "os.environ['CUDA_VISIBLE_DEVICES'] = '-1'\n",
    "\n",
    "# Reverse token dictionaries\n",
    "rev_tok_hindi = {idx: word for word, idx in tok_hindi.word_index.items()}\n",
    "\n",
    "# Select a subset of test data\n",
    "num_samples = 10\n",
    "x_test_subset = x_test[:num_samples]\n",
    "y_test_padded_subset = y_test[:num_samples]\n",
    "\n",
    "# Predict\n",
    "predictions = model.predict([x_test_subset, y_test_padded_subset], batch_size=16)\n",
    "print('Shape of predictions:', predictions.shape)\n",
    "\n",
    "# Convert predictions to token indices\n",
    "predicted_tokens_np = np.argmax(predictions, axis=-1)\n",
    "print('Shape of predicted_tokens:', predicted_tokens_np.shape)\n",
    "\n",
    "# Map indices to tokens and remove 'start' and 'end' tokens\n",
    "predicted_sentences = []\n",
    "for sample in predicted_tokens_np:\n",
    "    sentence = ' '.join([rev_tok_hindi.get(token, '<unknown>') for token in sample if token != 0 and token not in [tok_hindi.word_index.get('start'), tok_hindi.word_index.get('end')]])  # Exclude padding, 'start', and 'end' tokens\n",
    "    predicted_sentences.append(sentence)\n",
    "\n",
    "# Reverse token dictionary for English (assuming you have `tok_english` for English tokens)\n",
    "rev_tok_english = {idx: word for word, idx in tok.word_index.items()}\n",
    "\n",
    "# Map the English test inputs to their corresponding sentences\n",
    "english_sentences = []\n",
    "for sample in x_test_subset:\n",
    "    sentence = ' '.join([rev_tok_english.get(token, '<unknown>') for token in sample if token != 0])  # Exclude padding token\n",
    "    english_sentences.append(sentence)\n",
    "\n",
    "# Print English sentence followed by predicted Hindi sentence\n",
    "for idx, (eng_sentence, hin_sentence) in enumerate(zip(english_sentences, predicted_sentences)):\n",
    "    print(f'English sentence {idx + 1}: {eng_sentence}')\n",
    "    print(f'Predicted Hindi translation {idx + 1}: {hin_sentence}\\n')\n"
   ]
  },
  {
   "cell_type": "markdown",
   "id": "0ef1d8ed",
   "metadata": {
    "papermill": {
     "duration": 0.615751,
     "end_time": "2024-09-19T09:52:52.035337",
     "exception": false,
     "start_time": "2024-09-19T09:52:51.419586",
     "status": "completed"
    },
    "tags": []
   },
   "source": [
    "<a id='5.4'></a>\n",
    "### **5.4. ENCODER-DECODER MODEL WITH ATTENTION**"
   ]
  },
  {
   "cell_type": "code",
   "execution_count": 53,
   "id": "3461e5d8",
   "metadata": {
    "execution": {
     "iopub.execute_input": "2024-09-19T09:52:53.188869Z",
     "iopub.status.busy": "2024-09-19T09:52:53.187966Z",
     "iopub.status.idle": "2024-09-19T09:52:53.307125Z",
     "shell.execute_reply": "2024-09-19T09:52:53.306100Z"
    },
    "papermill": {
     "duration": 0.699198,
     "end_time": "2024-09-19T09:52:53.309432",
     "exception": false,
     "start_time": "2024-09-19T09:52:52.610234",
     "status": "completed"
    },
    "tags": []
   },
   "outputs": [
    {
     "data": {
      "text/html": [
       "<pre style=\"white-space:pre;overflow-x:auto;line-height:normal;font-family:Menlo,'DejaVu Sans Mono',consolas,'Courier New',monospace\"><span style=\"font-weight: bold\">Model: \"functional_3\"</span>\n",
       "</pre>\n"
      ],
      "text/plain": [
       "\u001b[1mModel: \"functional_3\"\u001b[0m\n"
      ]
     },
     "metadata": {},
     "output_type": "display_data"
    },
    {
     "data": {
      "text/html": [
       "<pre style=\"white-space:pre;overflow-x:auto;line-height:normal;font-family:Menlo,'DejaVu Sans Mono',consolas,'Courier New',monospace\">┏━━━━━━━━━━━━━━━━━━━━━┳━━━━━━━━━━━━━━━━━━━┳━━━━━━━━━━━━┳━━━━━━━━━━━━━━━━━━━┓\n",
       "┃<span style=\"font-weight: bold\"> Layer (type)        </span>┃<span style=\"font-weight: bold\"> Output Shape      </span>┃<span style=\"font-weight: bold\">    Param # </span>┃<span style=\"font-weight: bold\"> Connected to      </span>┃\n",
       "┡━━━━━━━━━━━━━━━━━━━━━╇━━━━━━━━━━━━━━━━━━━╇━━━━━━━━━━━━╇━━━━━━━━━━━━━━━━━━━┩\n",
       "│ input_layer_2       │ (<span style=\"color: #00d7ff; text-decoration-color: #00d7ff\">None</span>, <span style=\"color: #00af00; text-decoration-color: #00af00\">260</span>)       │          <span style=\"color: #00af00; text-decoration-color: #00af00\">0</span> │ -                 │\n",
       "│ (<span style=\"color: #0087ff; text-decoration-color: #0087ff\">InputLayer</span>)        │                   │            │                   │\n",
       "├─────────────────────┼───────────────────┼────────────┼───────────────────┤\n",
       "│ input_layer_3       │ (<span style=\"color: #00d7ff; text-decoration-color: #00d7ff\">None</span>, <span style=\"color: #00af00; text-decoration-color: #00af00\">260</span>)       │          <span style=\"color: #00af00; text-decoration-color: #00af00\">0</span> │ -                 │\n",
       "│ (<span style=\"color: #0087ff; text-decoration-color: #0087ff\">InputLayer</span>)        │                   │            │                   │\n",
       "├─────────────────────┼───────────────────┼────────────┼───────────────────┤\n",
       "│ embedding_2         │ (<span style=\"color: #00d7ff; text-decoration-color: #00d7ff\">None</span>, <span style=\"color: #00af00; text-decoration-color: #00af00\">260</span>, <span style=\"color: #00af00; text-decoration-color: #00af00\">260</span>)  │  <span style=\"color: #00af00; text-decoration-color: #00af00\">5,946,460</span> │ input_layer_2[<span style=\"color: #00af00; text-decoration-color: #00af00\">0</span>]… │\n",
       "│ (<span style=\"color: #0087ff; text-decoration-color: #0087ff\">Embedding</span>)         │                   │            │                   │\n",
       "├─────────────────────┼───────────────────┼────────────┼───────────────────┤\n",
       "│ embedding_3         │ (<span style=\"color: #00d7ff; text-decoration-color: #00d7ff\">None</span>, <span style=\"color: #00af00; text-decoration-color: #00af00\">260</span>, <span style=\"color: #00af00; text-decoration-color: #00af00\">260</span>)  │  <span style=\"color: #00af00; text-decoration-color: #00af00\">6,442,800</span> │ input_layer_3[<span style=\"color: #00af00; text-decoration-color: #00af00\">0</span>]… │\n",
       "│ (<span style=\"color: #0087ff; text-decoration-color: #0087ff\">Embedding</span>)         │                   │            │                   │\n",
       "├─────────────────────┼───────────────────┼────────────┼───────────────────┤\n",
       "│ lstm_2 (<span style=\"color: #0087ff; text-decoration-color: #0087ff\">LSTM</span>)       │ [(<span style=\"color: #00d7ff; text-decoration-color: #00d7ff\">None</span>, <span style=\"color: #00af00; text-decoration-color: #00af00\">260</span>,      │    <span style=\"color: #00af00; text-decoration-color: #00af00\">260,208</span> │ embedding_2[<span style=\"color: #00af00; text-decoration-color: #00af00\">0</span>][<span style=\"color: #00af00; text-decoration-color: #00af00\">0</span>] │\n",
       "│                     │ <span style=\"color: #00af00; text-decoration-color: #00af00\">156</span>), (<span style=\"color: #00d7ff; text-decoration-color: #00d7ff\">None</span>,      │            │                   │\n",
       "│                     │ <span style=\"color: #00af00; text-decoration-color: #00af00\">156</span>), (<span style=\"color: #00d7ff; text-decoration-color: #00d7ff\">None</span>,      │            │                   │\n",
       "│                     │ <span style=\"color: #00af00; text-decoration-color: #00af00\">156</span>)]             │            │                   │\n",
       "├─────────────────────┼───────────────────┼────────────┼───────────────────┤\n",
       "│ lstm_3 (<span style=\"color: #0087ff; text-decoration-color: #0087ff\">LSTM</span>)       │ [(<span style=\"color: #00d7ff; text-decoration-color: #00d7ff\">None</span>, <span style=\"color: #00af00; text-decoration-color: #00af00\">260</span>,      │    <span style=\"color: #00af00; text-decoration-color: #00af00\">260,208</span> │ embedding_3[<span style=\"color: #00af00; text-decoration-color: #00af00\">0</span>][<span style=\"color: #00af00; text-decoration-color: #00af00\">0</span>… │\n",
       "│                     │ <span style=\"color: #00af00; text-decoration-color: #00af00\">156</span>), (<span style=\"color: #00d7ff; text-decoration-color: #00d7ff\">None</span>,      │            │ lstm_2[<span style=\"color: #00af00; text-decoration-color: #00af00\">0</span>][<span style=\"color: #00af00; text-decoration-color: #00af00\">1</span>],     │\n",
       "│                     │ <span style=\"color: #00af00; text-decoration-color: #00af00\">156</span>), (<span style=\"color: #00d7ff; text-decoration-color: #00d7ff\">None</span>,      │            │ lstm_2[<span style=\"color: #00af00; text-decoration-color: #00af00\">0</span>][<span style=\"color: #00af00; text-decoration-color: #00af00\">2</span>]      │\n",
       "│                     │ <span style=\"color: #00af00; text-decoration-color: #00af00\">156</span>)]             │            │                   │\n",
       "├─────────────────────┼───────────────────┼────────────┼───────────────────┤\n",
       "│ attention           │ (<span style=\"color: #00d7ff; text-decoration-color: #00d7ff\">None</span>, <span style=\"color: #00af00; text-decoration-color: #00af00\">260</span>, <span style=\"color: #00af00; text-decoration-color: #00af00\">156</span>)  │          <span style=\"color: #00af00; text-decoration-color: #00af00\">0</span> │ lstm_3[<span style=\"color: #00af00; text-decoration-color: #00af00\">0</span>][<span style=\"color: #00af00; text-decoration-color: #00af00\">0</span>],     │\n",
       "│ (<span style=\"color: #0087ff; text-decoration-color: #0087ff\">Attention</span>)         │                   │            │ lstm_2[<span style=\"color: #00af00; text-decoration-color: #00af00\">0</span>][<span style=\"color: #00af00; text-decoration-color: #00af00\">0</span>]      │\n",
       "├─────────────────────┼───────────────────┼────────────┼───────────────────┤\n",
       "│ concatenate         │ (<span style=\"color: #00d7ff; text-decoration-color: #00d7ff\">None</span>, <span style=\"color: #00af00; text-decoration-color: #00af00\">260</span>, <span style=\"color: #00af00; text-decoration-color: #00af00\">312</span>)  │          <span style=\"color: #00af00; text-decoration-color: #00af00\">0</span> │ lstm_3[<span style=\"color: #00af00; text-decoration-color: #00af00\">0</span>][<span style=\"color: #00af00; text-decoration-color: #00af00\">0</span>],     │\n",
       "│ (<span style=\"color: #0087ff; text-decoration-color: #0087ff\">Concatenate</span>)       │                   │            │ attention[<span style=\"color: #00af00; text-decoration-color: #00af00\">0</span>][<span style=\"color: #00af00; text-decoration-color: #00af00\">0</span>]   │\n",
       "├─────────────────────┼───────────────────┼────────────┼───────────────────┤\n",
       "│ dense_1 (<span style=\"color: #0087ff; text-decoration-color: #0087ff\">Dense</span>)     │ (<span style=\"color: #00d7ff; text-decoration-color: #00d7ff\">None</span>, <span style=\"color: #00af00; text-decoration-color: #00af00\">260</span>,       │  <span style=\"color: #00af00; text-decoration-color: #00af00\">7,756,140</span> │ concatenate[<span style=\"color: #00af00; text-decoration-color: #00af00\">0</span>][<span style=\"color: #00af00; text-decoration-color: #00af00\">0</span>] │\n",
       "│                     │ <span style=\"color: #00af00; text-decoration-color: #00af00\">24780</span>)            │            │                   │\n",
       "└─────────────────────┴───────────────────┴────────────┴───────────────────┘\n",
       "</pre>\n"
      ],
      "text/plain": [
       "┏━━━━━━━━━━━━━━━━━━━━━┳━━━━━━━━━━━━━━━━━━━┳━━━━━━━━━━━━┳━━━━━━━━━━━━━━━━━━━┓\n",
       "┃\u001b[1m \u001b[0m\u001b[1mLayer (type)       \u001b[0m\u001b[1m \u001b[0m┃\u001b[1m \u001b[0m\u001b[1mOutput Shape     \u001b[0m\u001b[1m \u001b[0m┃\u001b[1m \u001b[0m\u001b[1m   Param #\u001b[0m\u001b[1m \u001b[0m┃\u001b[1m \u001b[0m\u001b[1mConnected to     \u001b[0m\u001b[1m \u001b[0m┃\n",
       "┡━━━━━━━━━━━━━━━━━━━━━╇━━━━━━━━━━━━━━━━━━━╇━━━━━━━━━━━━╇━━━━━━━━━━━━━━━━━━━┩\n",
       "│ input_layer_2       │ (\u001b[38;5;45mNone\u001b[0m, \u001b[38;5;34m260\u001b[0m)       │          \u001b[38;5;34m0\u001b[0m │ -                 │\n",
       "│ (\u001b[38;5;33mInputLayer\u001b[0m)        │                   │            │                   │\n",
       "├─────────────────────┼───────────────────┼────────────┼───────────────────┤\n",
       "│ input_layer_3       │ (\u001b[38;5;45mNone\u001b[0m, \u001b[38;5;34m260\u001b[0m)       │          \u001b[38;5;34m0\u001b[0m │ -                 │\n",
       "│ (\u001b[38;5;33mInputLayer\u001b[0m)        │                   │            │                   │\n",
       "├─────────────────────┼───────────────────┼────────────┼───────────────────┤\n",
       "│ embedding_2         │ (\u001b[38;5;45mNone\u001b[0m, \u001b[38;5;34m260\u001b[0m, \u001b[38;5;34m260\u001b[0m)  │  \u001b[38;5;34m5,946,460\u001b[0m │ input_layer_2[\u001b[38;5;34m0\u001b[0m]… │\n",
       "│ (\u001b[38;5;33mEmbedding\u001b[0m)         │                   │            │                   │\n",
       "├─────────────────────┼───────────────────┼────────────┼───────────────────┤\n",
       "│ embedding_3         │ (\u001b[38;5;45mNone\u001b[0m, \u001b[38;5;34m260\u001b[0m, \u001b[38;5;34m260\u001b[0m)  │  \u001b[38;5;34m6,442,800\u001b[0m │ input_layer_3[\u001b[38;5;34m0\u001b[0m]… │\n",
       "│ (\u001b[38;5;33mEmbedding\u001b[0m)         │                   │            │                   │\n",
       "├─────────────────────┼───────────────────┼────────────┼───────────────────┤\n",
       "│ lstm_2 (\u001b[38;5;33mLSTM\u001b[0m)       │ [(\u001b[38;5;45mNone\u001b[0m, \u001b[38;5;34m260\u001b[0m,      │    \u001b[38;5;34m260,208\u001b[0m │ embedding_2[\u001b[38;5;34m0\u001b[0m][\u001b[38;5;34m0\u001b[0m] │\n",
       "│                     │ \u001b[38;5;34m156\u001b[0m), (\u001b[38;5;45mNone\u001b[0m,      │            │                   │\n",
       "│                     │ \u001b[38;5;34m156\u001b[0m), (\u001b[38;5;45mNone\u001b[0m,      │            │                   │\n",
       "│                     │ \u001b[38;5;34m156\u001b[0m)]             │            │                   │\n",
       "├─────────────────────┼───────────────────┼────────────┼───────────────────┤\n",
       "│ lstm_3 (\u001b[38;5;33mLSTM\u001b[0m)       │ [(\u001b[38;5;45mNone\u001b[0m, \u001b[38;5;34m260\u001b[0m,      │    \u001b[38;5;34m260,208\u001b[0m │ embedding_3[\u001b[38;5;34m0\u001b[0m][\u001b[38;5;34m0\u001b[0m… │\n",
       "│                     │ \u001b[38;5;34m156\u001b[0m), (\u001b[38;5;45mNone\u001b[0m,      │            │ lstm_2[\u001b[38;5;34m0\u001b[0m][\u001b[38;5;34m1\u001b[0m],     │\n",
       "│                     │ \u001b[38;5;34m156\u001b[0m), (\u001b[38;5;45mNone\u001b[0m,      │            │ lstm_2[\u001b[38;5;34m0\u001b[0m][\u001b[38;5;34m2\u001b[0m]      │\n",
       "│                     │ \u001b[38;5;34m156\u001b[0m)]             │            │                   │\n",
       "├─────────────────────┼───────────────────┼────────────┼───────────────────┤\n",
       "│ attention           │ (\u001b[38;5;45mNone\u001b[0m, \u001b[38;5;34m260\u001b[0m, \u001b[38;5;34m156\u001b[0m)  │          \u001b[38;5;34m0\u001b[0m │ lstm_3[\u001b[38;5;34m0\u001b[0m][\u001b[38;5;34m0\u001b[0m],     │\n",
       "│ (\u001b[38;5;33mAttention\u001b[0m)         │                   │            │ lstm_2[\u001b[38;5;34m0\u001b[0m][\u001b[38;5;34m0\u001b[0m]      │\n",
       "├─────────────────────┼───────────────────┼────────────┼───────────────────┤\n",
       "│ concatenate         │ (\u001b[38;5;45mNone\u001b[0m, \u001b[38;5;34m260\u001b[0m, \u001b[38;5;34m312\u001b[0m)  │          \u001b[38;5;34m0\u001b[0m │ lstm_3[\u001b[38;5;34m0\u001b[0m][\u001b[38;5;34m0\u001b[0m],     │\n",
       "│ (\u001b[38;5;33mConcatenate\u001b[0m)       │                   │            │ attention[\u001b[38;5;34m0\u001b[0m][\u001b[38;5;34m0\u001b[0m]   │\n",
       "├─────────────────────┼───────────────────┼────────────┼───────────────────┤\n",
       "│ dense_1 (\u001b[38;5;33mDense\u001b[0m)     │ (\u001b[38;5;45mNone\u001b[0m, \u001b[38;5;34m260\u001b[0m,       │  \u001b[38;5;34m7,756,140\u001b[0m │ concatenate[\u001b[38;5;34m0\u001b[0m][\u001b[38;5;34m0\u001b[0m] │\n",
       "│                     │ \u001b[38;5;34m24780\u001b[0m)            │            │                   │\n",
       "└─────────────────────┴───────────────────┴────────────┴───────────────────┘\n"
      ]
     },
     "metadata": {},
     "output_type": "display_data"
    },
    {
     "data": {
      "text/html": [
       "<pre style=\"white-space:pre;overflow-x:auto;line-height:normal;font-family:Menlo,'DejaVu Sans Mono',consolas,'Courier New',monospace\"><span style=\"font-weight: bold\"> Total params: </span><span style=\"color: #00af00; text-decoration-color: #00af00\">20,665,816</span> (78.83 MB)\n",
       "</pre>\n"
      ],
      "text/plain": [
       "\u001b[1m Total params: \u001b[0m\u001b[38;5;34m20,665,816\u001b[0m (78.83 MB)\n"
      ]
     },
     "metadata": {},
     "output_type": "display_data"
    },
    {
     "data": {
      "text/html": [
       "<pre style=\"white-space:pre;overflow-x:auto;line-height:normal;font-family:Menlo,'DejaVu Sans Mono',consolas,'Courier New',monospace\"><span style=\"font-weight: bold\"> Trainable params: </span><span style=\"color: #00af00; text-decoration-color: #00af00\">20,665,816</span> (78.83 MB)\n",
       "</pre>\n"
      ],
      "text/plain": [
       "\u001b[1m Trainable params: \u001b[0m\u001b[38;5;34m20,665,816\u001b[0m (78.83 MB)\n"
      ]
     },
     "metadata": {},
     "output_type": "display_data"
    },
    {
     "data": {
      "text/html": [
       "<pre style=\"white-space:pre;overflow-x:auto;line-height:normal;font-family:Menlo,'DejaVu Sans Mono',consolas,'Courier New',monospace\"><span style=\"font-weight: bold\"> Non-trainable params: </span><span style=\"color: #00af00; text-decoration-color: #00af00\">0</span> (0.00 B)\n",
       "</pre>\n"
      ],
      "text/plain": [
       "\u001b[1m Non-trainable params: \u001b[0m\u001b[38;5;34m0\u001b[0m (0.00 B)\n"
      ]
     },
     "metadata": {},
     "output_type": "display_data"
    }
   ],
   "source": [
    "import tensorflow as tf\n",
    "from tensorflow.keras.layers import Input, LSTM, Embedding, Dense, Attention, Concatenate\n",
    "from tensorflow.keras.models import Model\n",
    "\n",
    "# Define Encoder model\n",
    "encoder_inputs = Input(shape=(max_length_input,))\n",
    "encoder_embedding = Embedding(input_dim=input_vocab_size, output_dim=260)(encoder_inputs)\n",
    "encoder_lstm = LSTM(156, return_sequences=True, return_state=True)  # Ensure return_sequences=True\n",
    "encoder_outputs, state_h, state_c = encoder_lstm(encoder_embedding)\n",
    "encoder_states = [state_h, state_c]\n",
    "\n",
    "# Define Decoder model\n",
    "decoder_inputs = Input(shape=(max_length_output,))\n",
    "decoder_embedding = Embedding(input_dim=output_vocab_size, output_dim=260)(decoder_inputs)\n",
    "decoder_lstm = LSTM(156, return_sequences=True, return_state=True)\n",
    "decoder_outputs, _, _ = decoder_lstm(decoder_embedding, initial_state=encoder_states)\n",
    "\n",
    "# Attention Layer\n",
    "attention = Attention()([decoder_outputs, encoder_outputs])\n",
    "\n",
    "# Concatenate attention output with decoder outputs\n",
    "decoder_concat_input = Concatenate(axis=-1)([decoder_outputs, attention])\n",
    "\n",
    "# Dense Layer for output prediction\n",
    "decoder_dense = Dense(output_vocab_size, activation='softmax')\n",
    "decoder_outputs = decoder_dense(decoder_concat_input)\n",
    "\n",
    "# Define the full Encoder-Decoder model\n",
    "model = Model([encoder_inputs, decoder_inputs], decoder_outputs)\n",
    "\n",
    "# Compile the model\n",
    "model.compile(optimizer='adam', loss='sparse_categorical_crossentropy', metrics=['accuracy'])\n",
    "\n",
    "# Print model summary\n",
    "model.summary()\n"
   ]
  },
  {
   "cell_type": "code",
   "execution_count": 54,
   "id": "60cb28e2",
   "metadata": {
    "execution": {
     "iopub.execute_input": "2024-09-19T09:52:54.525897Z",
     "iopub.status.busy": "2024-09-19T09:52:54.525491Z",
     "iopub.status.idle": "2024-09-19T10:27:58.854532Z",
     "shell.execute_reply": "2024-09-19T10:27:58.853667Z"
    },
    "papermill": {
     "duration": 2104.950118,
     "end_time": "2024-09-19T10:27:58.856685",
     "exception": false,
     "start_time": "2024-09-19T09:52:53.906567",
     "status": "completed"
    },
    "tags": []
   },
   "outputs": [
    {
     "name": "stdout",
     "output_type": "stream",
     "text": [
      "Epoch 1/5\n",
      "\u001b[1m1254/1254\u001b[0m \u001b[32m━━━━━━━━━━━━━━━━━━━━\u001b[0m\u001b[37m\u001b[0m \u001b[1m390s\u001b[0m 309ms/step - accuracy: 0.9684 - loss: 0.6402 - val_accuracy: 0.9856 - val_loss: 0.1213\n",
      "Epoch 2/5\n",
      "\u001b[1m1254/1254\u001b[0m \u001b[32m━━━━━━━━━━━━━━━━━━━━\u001b[0m\u001b[37m\u001b[0m \u001b[1m443s\u001b[0m 310ms/step - accuracy: 0.9873 - loss: 0.1073 - val_accuracy: 0.9914 - val_loss: 0.0782\n",
      "Epoch 3/5\n",
      "\u001b[1m1254/1254\u001b[0m \u001b[32m━━━━━━━━━━━━━━━━━━━━\u001b[0m\u001b[37m\u001b[0m \u001b[1m440s\u001b[0m 309ms/step - accuracy: 0.9922 - loss: 0.0686 - val_accuracy: 0.9942 - val_loss: 0.0556\n",
      "Epoch 4/5\n",
      "\u001b[1m1254/1254\u001b[0m \u001b[32m━━━━━━━━━━━━━━━━━━━━\u001b[0m\u001b[37m\u001b[0m \u001b[1m389s\u001b[0m 310ms/step - accuracy: 0.9948 - loss: 0.0462 - val_accuracy: 0.9958 - val_loss: 0.0421\n",
      "Epoch 5/5\n",
      "\u001b[1m1254/1254\u001b[0m \u001b[32m━━━━━━━━━━━━━━━━━━━━\u001b[0m\u001b[37m\u001b[0m \u001b[1m389s\u001b[0m 311ms/step - accuracy: 0.9964 - loss: 0.0319 - val_accuracy: 0.9968 - val_loss: 0.0333\n"
     ]
    }
   ],
   "source": [
    "early_stopping = EarlyStopping(monitor='val_loss', patience=3, restore_best_weights=True)\n",
    "model_checkpoint = ModelCheckpoint('model_checkpoint.keras', save_best_only=True)  # Updated filepath\n",
    "\n",
    "# Train the model with callbacks\n",
    "history = model.fit(\n",
    "    x=[x_train, y_train],# Exclude last token from decoder input\n",
    "    y=y_train,   # Exclude first token from decoder target\n",
    "    batch_size=32,\n",
    "    epochs=5,\n",
    "    validation_data=([x_test, y_test], y_test),\n",
    "    callbacks=[early_stopping, model_checkpoint],  \n",
    ")"
   ]
  },
  {
   "cell_type": "markdown",
   "id": "ce1fe3a1",
   "metadata": {
    "papermill": {
     "duration": 1.074654,
     "end_time": "2024-09-19T10:28:01.021085",
     "exception": false,
     "start_time": "2024-09-19T10:27:59.946431",
     "status": "completed"
    },
    "tags": []
   },
   "source": [
    "<a id='5.5'></a>\n",
    "### **5.5. ENCODER-DECODER MODEL WITH ATTENTION EVALUATION**"
   ]
  },
  {
   "cell_type": "code",
   "execution_count": 55,
   "id": "ebaa7635",
   "metadata": {
    "execution": {
     "iopub.execute_input": "2024-09-19T10:28:03.234248Z",
     "iopub.status.busy": "2024-09-19T10:28:03.233505Z",
     "iopub.status.idle": "2024-09-19T10:28:03.574220Z",
     "shell.execute_reply": "2024-09-19T10:28:03.573388Z"
    },
    "papermill": {
     "duration": 1.42678,
     "end_time": "2024-09-19T10:28:03.576439",
     "exception": false,
     "start_time": "2024-09-19T10:28:02.149659",
     "status": "completed"
    },
    "tags": []
   },
   "outputs": [
    {
     "data": {
      "image/png": "[encoded data removed]",
      "text/plain": [
       "<Figure size 640x480 with 1 Axes>"
      ]
     },
     "metadata": {},
     "output_type": "display_data"
    }
   ],
   "source": [
    "plt.plot(history.history['accuracy'],color = 'blue',label = 'accuracy')\n",
    "plt.plot(history.history['val_accuracy'],color = 'red',label = 'val_accuracy')\n",
    "plt.title(\"Training And Validation Accuracy Score\")\n",
    "plt.xlabel(\"accuracy\")\n",
    "plt.ylabel(\"epochs\")\n",
    "plt.grid()\n",
    "plt.legend()\n",
    "plt.show()"
   ]
  },
  {
   "cell_type": "code",
   "execution_count": 56,
   "id": "28460e29",
   "metadata": {
    "execution": {
     "iopub.execute_input": "2024-09-19T10:28:05.785857Z",
     "iopub.status.busy": "2024-09-19T10:28:05.785506Z",
     "iopub.status.idle": "2024-09-19T10:28:06.153077Z",
     "shell.execute_reply": "2024-09-19T10:28:06.152143Z"
    },
    "papermill": {
     "duration": 1.44204,
     "end_time": "2024-09-19T10:28:06.155324",
     "exception": false,
     "start_time": "2024-09-19T10:28:04.713284",
     "status": "completed"
    },
    "tags": []
   },
   "outputs": [
    {
     "data": {
      "image/png": "[encoded data removed]",
      "text/plain": [
       "<Figure size 640x480 with 1 Axes>"
      ]
     },
     "metadata": {},
     "output_type": "display_data"
    }
   ],
   "source": [
    "plt.plot(history.history['loss'],color = 'blue',label = 'loss')\n",
    "plt.plot(history.history['val_loss'],color = 'red',label = 'val_loss')\n",
    "plt.title(\"Training And Validation Loss Score\")\n",
    "plt.xlabel(\"loss\")\n",
    "plt.ylabel(\"epochs\")\n",
    "plt.grid()\n",
    "plt.legend()\n",
    "plt.show()"
   ]
  },
  {
   "cell_type": "markdown",
   "id": "280765fb",
   "metadata": {
    "papermill": {
     "duration": 1.087177,
     "end_time": "2024-09-19T10:28:08.395180",
     "exception": false,
     "start_time": "2024-09-19T10:28:07.308003",
     "status": "completed"
    },
    "tags": []
   },
   "source": [
    "<a id='5.6'></a>\n",
    "### **5.6. PREDICTION FROM ENCODER-DECODER MODEL WITH ATTENTION**"
   ]
  },
  {
   "cell_type": "code",
   "execution_count": 57,
   "id": "9834913c",
   "metadata": {
    "execution": {
     "iopub.execute_input": "2024-09-19T10:28:10.587450Z",
     "iopub.status.busy": "2024-09-19T10:28:10.587101Z",
     "iopub.status.idle": "2024-09-19T10:28:11.236729Z",
     "shell.execute_reply": "2024-09-19T10:28:11.235746Z"
    },
    "papermill": {
     "duration": 1.726062,
     "end_time": "2024-09-19T10:28:11.238822",
     "exception": false,
     "start_time": "2024-09-19T10:28:09.512760",
     "status": "completed"
    },
    "tags": []
   },
   "outputs": [
    {
     "name": "stdout",
     "output_type": "stream",
     "text": [
      "\u001b[1m1/1\u001b[0m \u001b[32m━━━━━━━━━━━━━━━━━━━━\u001b[0m\u001b[37m\u001b[0m \u001b[1m0s\u001b[0m 212ms/step\n",
      "Shape of predictions: (10, 260, 24780)\n",
      "Shape of predicted_tokens: (10, 260)\n",
      "English sentence 1: sanskrit is the mother of all indian languages\n",
      "Predicted Hindi translation 1: संस्कृत सभी भारतीय भाषाओं की माता है।\n",
      "\n",
      "English sentence 2: so essentially it knows where to go\n",
      "Predicted Hindi translation 2: तो अनिवार्य रूप से यह जानता है कहाँ जाना है\n",
      "\n",
      "English sentence 3: i lost my best friend to a car accident\n",
      "Predicted Hindi translation 3: तब मैंने अपने सबसे अच्छे मित्र को सड़क दुर्घटना में खो दिया\n",
      "\n",
      "English sentence 4: clinics are listed in telephone directories\n",
      "Predicted Hindi translation 4: इन ढोरों की सूची में मिल जाएगी\n",
      "\n",
      "English sentence 5: i do not think in language\n",
      "Predicted Hindi translation 5: मै भाषा मे नही सोचती\n",
      "\n",
      "English sentence 6: and some of the stuff you saw there\n",
      "Predicted Hindi translation 6: और उसका एक हिस्सा आपने अभी देखा।\n",
      "\n",
      "English sentence 7: 10 in a row you move on\n",
      "Predicted Hindi translation 7: जब सवाल सही हो जाये आगे\n",
      "\n",
      "English sentence 8: the system also recognizes iconic gestures\n",
      "Predicted Hindi translation 8: यह प्रणाली टिम को भी है\n",
      "\n",
      "English sentence 9: but nasa is developing the space liner always has\n",
      "Predicted Hindi translation 9: पर नासा अंतरिक्ष परमाणु बना रही है हमेशा से बनाती आई है\n",
      "\n",
      "English sentence 10: its foreign policies\n",
      "Predicted Hindi translation 10: अपनी विदेश नीतियों से\n",
      "\n"
     ]
    }
   ],
   "source": [
    "import numpy as np\n",
    "import os\n",
    "os.environ['CUDA_VISIBLE_DEVICES'] = '-1'\n",
    "\n",
    "# Reverse token dictionaries\n",
    "rev_tok_hindi = {idx: word for word, idx in tok_hindi.word_index.items()}\n",
    "\n",
    "# Select a subset of test data\n",
    "num_samples = 10\n",
    "x_test_subset = x_test[:num_samples]\n",
    "y_test_padded_subset = y_test[:num_samples]\n",
    "\n",
    "# Predict\n",
    "predictions = model.predict([x_test_subset, y_test_padded_subset], batch_size=16)\n",
    "print('Shape of predictions:', predictions.shape)\n",
    "\n",
    "# Convert predictions to token indices\n",
    "predicted_tokens_np = np.argmax(predictions, axis=-1)\n",
    "print('Shape of predicted_tokens:', predicted_tokens_np.shape)\n",
    "\n",
    "# Map indices to tokens and remove 'start' and 'end' tokens\n",
    "predicted_sentences = []\n",
    "for sample in predicted_tokens_np:\n",
    "    sentence = ' '.join([rev_tok_hindi.get(token, '<unknown>') for token in sample if token != 0 and token not in [tok_hindi.word_index.get('start'), tok_hindi.word_index.get('end')]])  # Exclude padding, 'start', and 'end' tokens\n",
    "    predicted_sentences.append(sentence)\n",
    "\n",
    "# Reverse token dictionary for English (assuming you have `tok_english` for English tokens)\n",
    "rev_tok_english = {idx: word for word, idx in tok.word_index.items()}\n",
    "\n",
    "# Map the English test inputs to their corresponding sentences\n",
    "english_sentences = []\n",
    "for sample in x_test_subset:\n",
    "    sentence = ' '.join([rev_tok_english.get(token, '<unknown>') for token in sample if token != 0])  # Exclude padding token\n",
    "    english_sentences.append(sentence)\n",
    "\n",
    "# Print English sentence followed by predicted Hindi sentence\n",
    "for idx, (eng_sentence, hin_sentence) in enumerate(zip(english_sentences, predicted_sentences)):\n",
    "    print(f'English sentence {idx + 1}: {eng_sentence}')\n",
    "    print(f'Predicted Hindi translation {idx + 1}: {hin_sentence}\\n')\n"
   ]
  },
  {
   "cell_type": "markdown",
   "id": "0a667c28",
   "metadata": {
    "papermill": {
     "duration": 1.066181,
     "end_time": "2024-09-19T10:28:13.438836",
     "exception": false,
     "start_time": "2024-09-19T10:28:12.372655",
     "status": "completed"
    },
    "tags": []
   },
   "source": [
    "<a id='5.7'></a>\n",
    "### **5.7. Saving the best weight**"
   ]
  },
  {
   "cell_type": "code",
   "execution_count": 58,
   "id": "a2bc851e",
   "metadata": {
    "execution": {
     "iopub.execute_input": "2024-09-19T10:28:15.630368Z",
     "iopub.status.busy": "2024-09-19T10:28:15.629713Z",
     "iopub.status.idle": "2024-09-19T10:28:15.935900Z",
     "shell.execute_reply": "2024-09-19T10:28:15.934848Z"
    },
    "papermill": {
     "duration": 1.370133,
     "end_time": "2024-09-19T10:28:15.938060",
     "exception": false,
     "start_time": "2024-09-19T10:28:14.567927",
     "status": "completed"
    },
    "tags": []
   },
   "outputs": [
    {
     "name": "stdout",
     "output_type": "stream",
     "text": [
      "Model saved succesfully!!\n"
     ]
    }
   ],
   "source": [
    "# Save the entire model\n",
    "model.save('encoder_decoder_model.h5')\n",
    "print('Model saved succesfully!!')"
   ]
  }
 ],
 "metadata": {
  "kaggle": {
   "accelerator": "nvidiaTeslaT4",
   "dataSources": [
    {
     "datasetId": 2502545,
     "sourceId": 4246862,
     "sourceType": "datasetVersion"
    }
   ],
   "dockerImageVersionId": 30732,
   "isGpuEnabled": true,
   "isInternetEnabled": true,
   "language": "python",
   "sourceType": "notebook"
  },
  "kernelspec": {
   "display_name": "base",
   "language": "python",
   "name": "python3"
  },
  "language_info": {
   "codemirror_mode": {
    "name": "ipython",
    "version": 3
   },
   "file_extension": ".py",
   "mimetype": "text/x-python",
   "name": "python",
   "nbconvert_exporter": "python",
   "pygments_lexer": "ipython3",
   "version": "3.12.4"
  },
  "papermill": {
   "default_parameters": {},
   "duration": 3828.188466,
   "end_time": "2024-09-19T10:28:20.043710",
   "environment_variables": {},
   "exception": null,
   "input_path": "__notebook__.ipynb",
   "output_path": "__notebook__.ipynb",
   "parameters": {},
   "start_time": "2024-09-19T09:24:31.855244",
   "version": "2.5.0"
  }
 },
 "nbformat": 4,
 "nbformat_minor": 5
}
